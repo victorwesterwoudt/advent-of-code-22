{
 "cells": [
  {
   "cell_type": "code",
   "execution_count": 185,
   "metadata": {},
   "outputs": [],
   "source": [
    "def decode(input, idxs = None):\n",
    "\n",
    "    lst = list(input)\n",
    "    l = len(lst)\n",
    "    if idxs is None:\n",
    "        idxs = list(range(l))\n",
    "    \n",
    "\n",
    "    for i in range(len(lst)):\n",
    "        # if i == 2:\n",
    "        #     break\n",
    "        # find where the i-th value of the original is located\n",
    "        idx = idxs.index(i)\n",
    "\n",
    "        # get the value of that item\n",
    "        item = lst[idx]\n",
    "\n",
    "        if item == 0:\n",
    "            continue\n",
    "        else:\n",
    "\n",
    "            ii = (idx + item) % (l - 1)\n",
    "\n",
    "            if ii == 0:\n",
    "                ii = l - 1\n",
    "\n",
    "            # print(f\"input: {lst},{idxs},{i},{ii},{item}\")\n",
    "\n",
    "            del lst[idx]\n",
    "            del idxs[idx]\n",
    "\n",
    "            lst.insert(ii, item)\n",
    "            idxs.insert(ii, i)\n",
    "\n",
    "    \n",
    "    return lst, idxs\n",
    "\n",
    "\n",
    "def score(input,seed=0):\n",
    "    nill = input.index(seed)\n",
    "    return sum([input[(nill + x) % (len(input))] for x in [1000,2000,3000]])\n",
    "\n"
   ]
  },
  {
   "cell_type": "code",
   "execution_count": 186,
   "metadata": {},
   "outputs": [],
   "source": [
    "with open('./assets/input_day_20.txt') as file:\n",
    "    input = tuple(map(int,file.read().splitlines()))"
   ]
  },
  {
   "cell_type": "code",
   "execution_count": 187,
   "metadata": {},
   "outputs": [
    {
     "name": "stdout",
     "output_type": "stream",
     "text": [
      "7228\n"
     ]
    }
   ],
   "source": [
    "#pt1\n",
    "decoded, _ = decode(input)\n",
    "print(score(decoded))"
   ]
  },
  {
   "cell_type": "code",
   "execution_count": 188,
   "metadata": {},
   "outputs": [
    {
     "name": "stdout",
     "output_type": "stream",
     "text": [
      "4526232706281\n"
     ]
    }
   ],
   "source": [
    "# pt\n",
    "input2 = tuple([x*811589153 for x in input])\n",
    "decoded, idxs = decode(input2)\n",
    "for i in range(9):\n",
    "    decoded = tuple(decoded)\n",
    "    decoded, idxs = decode(decoded,idxs)\n",
    "\n",
    "\n",
    "print(score(decoded))"
   ]
  }
 ],
 "metadata": {
  "kernelspec": {
   "display_name": "advent-of-code-22-wz92sbIO",
   "language": "python",
   "name": "python3"
  },
  "language_info": {
   "codemirror_mode": {
    "name": "ipython",
    "version": 3
   },
   "file_extension": ".py",
   "mimetype": "text/x-python",
   "name": "python",
   "nbconvert_exporter": "python",
   "pygments_lexer": "ipython3",
   "version": "3.10.5"
  },
  "orig_nbformat": 4,
  "vscode": {
   "interpreter": {
    "hash": "3838113ebab7a4d11bc1acf8c1b0b3e277d678e449986ac7a2213bec89ae2e4f"
   }
  }
 },
 "nbformat": 4,
 "nbformat_minor": 2
}
