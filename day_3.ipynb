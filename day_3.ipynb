{
 "cells": [
  {
   "cell_type": "code",
   "execution_count": 95,
   "metadata": {},
   "outputs": [],
   "source": [
    "input_file = 'assets/input_day_3.txt'\n",
    "with open(input_file) as f:\n",
    "    temp = f.read().splitlines()\n",
    "    bags = [list(x) for x in temp]\n",
    "\n",
    "\n",
    "def priority(char):\n",
    "    if char.islower():\n",
    "        return ord(char) - ord('a') + 1 \n",
    "    else:\n",
    "        return ord(char) - ord('A') + 27\n",
    "    \n",
    "\n",
    "def process_bag(bag):\n",
    "    comps = (bag[:len(bag)//2],bag[len(bag)//2:])\n",
    "    overlap = set(comps[0]) & set(comps[1])\n",
    "    return sum([priority(x) for x in overlap])\n",
    "\n",
    "\n",
    "def badge_bags(bags):\n",
    "    return sum([priority(x) for x in set.intersection(*map(set,bags))])"
   ]
  },
  {
   "cell_type": "code",
   "execution_count": 96,
   "metadata": {},
   "outputs": [
    {
     "name": "stdout",
     "output_type": "stream",
     "text": [
      "7826\n",
      "2577\n"
     ]
    }
   ],
   "source": [
    "print(sum(process_bag(bag) for bag in bags))\n",
    "print(sum([badge_bags(x) for x in zip(*(iter(bags),) * 3)]))"
   ]
  }
 ],
 "metadata": {
  "kernelspec": {
   "display_name": "Python 3.10.5 ('advent-of-code-22-wz92sbIO')",
   "language": "python",
   "name": "python3"
  },
  "language_info": {
   "codemirror_mode": {
    "name": "ipython",
    "version": 3
   },
   "file_extension": ".py",
   "mimetype": "text/x-python",
   "name": "python",
   "nbconvert_exporter": "python",
   "pygments_lexer": "ipython3",
   "version": "3.10.5"
  },
  "orig_nbformat": 4,
  "vscode": {
   "interpreter": {
    "hash": "3838113ebab7a4d11bc1acf8c1b0b3e277d678e449986ac7a2213bec89ae2e4f"
   }
  }
 },
 "nbformat": 4,
 "nbformat_minor": 2
}
