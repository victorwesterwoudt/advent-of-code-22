{
 "cells": [
  {
   "cell_type": "code",
   "execution_count": 602,
   "metadata": {},
   "outputs": [],
   "source": [
    "import numpy as np\n",
    "from typing import Optional\n",
    "import numpy.typing as npt\n",
    "from collections import defaultdict\n",
    "import hashlib\n",
    "\n",
    "with open('./assets/input_day_17.txt') as file:\n",
    "    jets = list(file.read())"
   ]
  },
  {
   "cell_type": "code",
   "execution_count": 611,
   "metadata": {},
   "outputs": [],
   "source": [
    "class Shape(object):\n",
    "    def __init__(self,indices) -> None:\n",
    "        self._indices = indices\n",
    "    \n",
    "    @property\n",
    "    def h(self):\n",
    "        return max(x[1] for x in self._indices) - min(x[1] for x in self._indices) + 1\n",
    "\n",
    "\n",
    "    def __add__(self,o: tuple):\n",
    "        return tuple([(x[0]+o[0],x[1]+o[1]) for x in self._indices])\n",
    "\n",
    "    def getd(self, direction):\n",
    "        match direction:\n",
    "            case \">\":\n",
    "                return (1, 0)\n",
    "            case \"<\":\n",
    "                return (-1, 0)\n",
    "            case \"v\":\n",
    "                return (0, 1)\n",
    "            case \"^\":\n",
    "                return (0, -1)\n",
    "\n",
    "\n",
    "    def move_idx(self,direction):\n",
    "        return set(self + self.getd(direction)) - set(self._indices)\n",
    "\n",
    "    def move(self, direction):\n",
    "        self._indices = self + self.getd(direction)\n",
    "\n",
    "\n",
    "    def move_allowed(self,direction,space):\n",
    "        idx = self.move_idx(direction)\n",
    "        if any([x[0] < 0 or x[0] > space.shape[1] -1 for x in idx]):\n",
    "            return False\n",
    "        elif any([x[1] < 0 or x[1] > space.shape[0] -1 for x in idx]):\n",
    "            return False\n",
    "        elif any([space[x[::-1]] for x in idx]):\n",
    "            return False\n",
    "        else:\n",
    "            return True\n",
    "\n",
    "\n",
    "class Cave(object):\n",
    "\n",
    "    SHAPES = [\n",
    "        ((0,0),(1,0),(2,0),(3,0)),\n",
    "        ((1,0),(0,1),(1,1),(2,1),(1,2)),\n",
    "        ((2,0),(2,1),(0,2),(1,2),(2,2)),\n",
    "        ((0,0),(0,1),(0,2),(0,3)),\n",
    "        ((0,0),(0,1),(1,0),(1,1))\n",
    "    ]\n",
    "\n",
    "    def __init__(self, input, start_x = 2, w = 7) -> None:\n",
    "        self.start_x = start_x\n",
    "        self.w = w\n",
    "        self.stopped = 0\n",
    "        self.jet_id = 0\n",
    "        self.shape_id = 0\n",
    "        self.space = np.zeros((0,self.w),dtype=bool)\n",
    "        self.jets = input\n",
    "        self.hashes = {}\n",
    "\n",
    "    def signature(self, n=30):\n",
    "        return frozenset(\n",
    "            (\n",
    "                hashlib.sha1(self.space[0:min(n,self.space.shape[0]),:].view(np.uint8)).hexdigest(),\n",
    "                self.shape_id\n",
    "            )\n",
    "        )\n",
    "\n",
    "    def drop(self):\n",
    "        \n",
    "        hs = self.signature()\n",
    "        loop = None, None\n",
    "\n",
    "        if hs in self.hashes:\n",
    "            loop = (self.space.shape[0] - self.hashes[hs][0], self.stopped - self.hashes[hs][1])\n",
    "            # return hit\n",
    "            # else:\n",
    "        self.hashes[hs] = (self.space.shape[0],self.stopped)\n",
    "\n",
    "        shape = Shape(self.SHAPES[self.shape_id])\n",
    "        \n",
    "        dead_space = np.zeros((3 + shape.h,self.w),dtype=bool)\n",
    "        self.space = np.concatenate([dead_space,self.space])\n",
    "\n",
    "        # move to starting position\n",
    "        for _ in range(self.start_x):\n",
    "            if shape.move_allowed(\">\",self.space):\n",
    "                shape.move(\">\")\n",
    "        \n",
    "        while True:\n",
    "            if shape.move_allowed(self.jets[self.jet_id],self.space):\n",
    "                shape.move(self.jets[self.jet_id])\n",
    "\n",
    "            self.jet_id = (self.jet_id + 1) % len(self.jets)\n",
    "\n",
    "            if shape.move_allowed(\"v\", self.space):\n",
    "                shape.move(\"v\")\n",
    "            else:\n",
    "                c,r  = list(zip(*shape._indices))\n",
    "                self.space[r,c] = True\n",
    "                self.stopped += 1\n",
    "                self.shape_id = (self.shape_id + 1) % len(self.SHAPES)\n",
    "                front = list(range(np.argmax(np.sum(self.space,axis=1) > 0)))\n",
    "                self.space = np.delete(self.space,front,axis=0)\n",
    "                break\n",
    "        \n",
    "        return loop\n"
   ]
  },
  {
   "cell_type": "code",
   "execution_count": 612,
   "metadata": {},
   "outputs": [
    {
     "data": {
      "text/plain": [
       "3137"
      ]
     },
     "execution_count": 612,
     "metadata": {},
     "output_type": "execute_result"
    }
   ],
   "source": [
    "pt1 = Cave(jets)\n",
    "for _ in range(2022):\n",
    "    hit = pt1.drop()\n",
    "\n",
    "pt1.space.shape[0]"
   ]
  },
  {
   "cell_type": "code",
   "execution_count": 613,
   "metadata": {},
   "outputs": [
    {
     "data": {
      "text/plain": [
       "1564705882327"
      ]
     },
     "execution_count": 613,
     "metadata": {},
     "output_type": "execute_result"
    }
   ],
   "source": [
    "pt2 = Cave(jets)\n",
    "while True:\n",
    "    pattern = pt2.drop()\n",
    "    if pattern[0] is not None:\n",
    "        break\n",
    "\n",
    "n = 1_000_000_000_000\n",
    "rem = n - pt2.stopped\n",
    "loops = rem // pattern[1]\n",
    "more_rocks = rem % pattern[1]\n",
    "\n",
    "for _ in range(more_rocks):\n",
    "    pt2.drop()\n",
    "\n",
    "loops * pattern[0] + pt2.space.shape[0]"
   ]
  }
 ],
 "metadata": {
  "kernelspec": {
   "display_name": "advent-of-code-22-wz92sbIO",
   "language": "python",
   "name": "python3"
  },
  "language_info": {
   "codemirror_mode": {
    "name": "ipython",
    "version": 3
   },
   "file_extension": ".py",
   "mimetype": "text/x-python",
   "name": "python",
   "nbconvert_exporter": "python",
   "pygments_lexer": "ipython3",
   "version": "3.10.5"
  },
  "orig_nbformat": 4,
  "vscode": {
   "interpreter": {
    "hash": "3838113ebab7a4d11bc1acf8c1b0b3e277d678e449986ac7a2213bec89ae2e4f"
   }
  }
 },
 "nbformat": 4,
 "nbformat_minor": 2
}
