{
 "cells": [
  {
   "cell_type": "code",
   "execution_count": 200,
   "metadata": {},
   "outputs": [],
   "source": [
    "input_file = 'assets/input_day_2.txt'\n",
    "with open(input_file) as f:\n",
    "    temp = f.read().splitlines()\n",
    "    games = [x.split(' ') for x in temp]"
   ]
  },
  {
   "cell_type": "code",
   "execution_count": 201,
   "metadata": {},
   "outputs": [],
   "source": [
    "strategy = {\n",
    "    \"X\": \"A\",\n",
    "    \"Y\": \"B\",\n",
    "    \"Z\": \"C\"\n",
    "}\n",
    "\n",
    "points = {\n",
    "    \"A\": 1,\n",
    "    \"B\": 2,\n",
    "    \"C\": 3,\n",
    "}\n",
    "\n",
    "win_order = [\"A\", \"B\", \"C\"]\n",
    "\n",
    "# the result of RPS can be calculated cyclical. C beats B beats A beats C\n",
    "\n",
    "cases = {\n",
    "    0: \"tie\",\n",
    "    1: \"win\",\n",
    "    2: \"lose\",\n",
    "}"
   ]
  },
  {
   "cell_type": "code",
   "execution_count": 202,
   "metadata": {},
   "outputs": [
    {
     "name": "stdout",
     "output_type": "stream",
     "text": [
      "14827\n"
     ]
    }
   ],
   "source": [
    "scores = []\n",
    "for game in games:\n",
    "    symbol_difference = win_order.index(strategy[game[1]]) - win_order.index(game[0])\n",
    "    \n",
    "    match cases[symbol_difference % len(win_order)]:\n",
    "        case \"win\":\n",
    "            scores.append(points[strategy[game[1]]]+6)\n",
    "        case \"tie\":\n",
    "            scores.append(points[strategy[game[1]]]+3)\n",
    "        case \"lose\":\n",
    "            scores.append(points[strategy[game[1]]]+0)\n",
    "        \n",
    "print(sum(scores))\n"
   ]
  },
  {
   "cell_type": "code",
   "execution_count": 203,
   "metadata": {},
   "outputs": [
    {
     "name": "stdout",
     "output_type": "stream",
     "text": [
      "13889\n"
     ]
    }
   ],
   "source": [
    "new_strategy = {\n",
    "    \"X\": \"lose\",\n",
    "    \"Y\": \"draw\",\n",
    "    \"Z\": \"win\",\n",
    "}\n",
    "\n",
    "scores = []\n",
    "for game in games:\n",
    "    match new_strategy[game[1]]:\n",
    "        case \"lose\":\n",
    "            scores.append((win_order.index(game[0]) - 1) % 3 + 1)\n",
    "        case \"draw\":\n",
    "            scores.append(points[game[0]] + 3)\n",
    "        case \"win\":\n",
    "            scores.append(points[game[0]] % 3 + 1 + 6)\n",
    "\n",
    "print(sum(scores))"
   ]
  }
 ],
 "metadata": {
  "kernelspec": {
   "display_name": "Python 3.10.5 ('advent-of-code-22-wz92sbIO')",
   "language": "python",
   "name": "python3"
  },
  "language_info": {
   "codemirror_mode": {
    "name": "ipython",
    "version": 3
   },
   "file_extension": ".py",
   "mimetype": "text/x-python",
   "name": "python",
   "nbconvert_exporter": "python",
   "pygments_lexer": "ipython3",
   "version": "3.10.5"
  },
  "orig_nbformat": 4,
  "vscode": {
   "interpreter": {
    "hash": "3838113ebab7a4d11bc1acf8c1b0b3e277d678e449986ac7a2213bec89ae2e4f"
   }
  }
 },
 "nbformat": 4,
 "nbformat_minor": 2
}
