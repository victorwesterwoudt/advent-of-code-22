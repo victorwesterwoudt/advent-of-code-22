{
 "cells": [
  {
   "cell_type": "code",
   "execution_count": 27,
   "metadata": {},
   "outputs": [],
   "source": [
    "with open('./assets/input_day_25.txt','r') as file:\n",
    "    input = file.read().splitlines()"
   ]
  },
  {
   "cell_type": "code",
   "execution_count": 30,
   "metadata": {},
   "outputs": [],
   "source": [
    "def decode(input):\n",
    "    output = 0\n",
    "    for i,v in enumerate(reversed(input)):\n",
    "        try:\n",
    "            output += int(v) * (5 ** i)\n",
    "        except ValueError:\n",
    "            match v:\n",
    "                case '-':\n",
    "                    output += -1 * (5 ** i)\n",
    "                case '=':\n",
    "                    output += -2 * (5 ** i)\n",
    "            continue\n",
    "\n",
    "    return output\n",
    "\n",
    "def encode(input):\n",
    "    output = ''\n",
    "\n",
    "    return output"
   ]
  },
  {
   "cell_type": "code",
   "execution_count": 29,
   "metadata": {},
   "outputs": [
    {
     "name": "stdout",
     "output_type": "stream",
     "text": [
      "33038276688955\n"
     ]
    }
   ],
   "source": [
    "total = 0\n",
    "for line in input:\n",
    "    total += decode(line)\n",
    "\n",
    "print(total)\n"
   ]
  }
 ],
 "metadata": {
  "kernelspec": {
   "display_name": "advent-of-code-22-wz92sbIO",
   "language": "python",
   "name": "python3"
  },
  "language_info": {
   "codemirror_mode": {
    "name": "ipython",
    "version": 3
   },
   "file_extension": ".py",
   "mimetype": "text/x-python",
   "name": "python",
   "nbconvert_exporter": "python",
   "pygments_lexer": "ipython3",
   "version": "3.10.5"
  },
  "orig_nbformat": 4,
  "vscode": {
   "interpreter": {
    "hash": "3838113ebab7a4d11bc1acf8c1b0b3e277d678e449986ac7a2213bec89ae2e4f"
   }
  }
 },
 "nbformat": 4,
 "nbformat_minor": 2
}
