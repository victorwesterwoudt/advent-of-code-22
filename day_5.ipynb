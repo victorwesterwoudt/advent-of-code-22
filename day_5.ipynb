{
 "cells": [
  {
   "cell_type": "code",
   "execution_count": 201,
   "metadata": {},
   "outputs": [],
   "source": [
    "from collections import deque\n",
    "import copy\n",
    "import re\n",
    "\n",
    "input_file = 'assets/input_day_5.txt'\n",
    "with open(input_file) as f:\n",
    "    temp = f.read().splitlines()\n",
    "\n",
    "stacks = [deque(filter(lambda x: x != ' ', y)) for y in map(list, zip(*[[stack[x] for x in range(1,len(temp[0]),4)] for stack in temp[0:8]]))]\n",
    "moves = [[int(x) for x in re.match(r\"move (\\d+) from (\\d+) to (\\d+)\",m).groups()] for m in temp[10:]]"
   ]
  },
  {
   "cell_type": "code",
   "execution_count": 202,
   "metadata": {},
   "outputs": [],
   "source": [
    "def move_crates(source: deque, destination: deque, n, type = '9000'):\n",
    "\n",
    "    temp = deque()\n",
    "    for i in range(n):\n",
    "        if type == '9000':\n",
    "            temp.append(source.popleft())\n",
    "        else:\n",
    "            temp.appendleft(source.popleft())\n",
    "    \n",
    "    destination.extendleft(temp)\n",
    "\n",
    "    return source, destination"
   ]
  },
  {
   "cell_type": "code",
   "execution_count": 203,
   "metadata": {},
   "outputs": [
    {
     "data": {
      "text/plain": [
       "'PTWLTDSJV'"
      ]
     },
     "execution_count": 203,
     "metadata": {},
     "output_type": "execute_result"
    }
   ],
   "source": [
    "stacks_1 = copy.deepcopy(stacks)\n",
    "for move in moves:\n",
    "    move_crates(stacks_1[move[1]-1], stacks_1[move[2]-1],move[0])\n",
    "print(''.join([stack[0] for stack in stacks_1]))"
   ]
  },
  {
   "cell_type": "code",
   "execution_count": 204,
   "metadata": {},
   "outputs": [
    {
     "data": {
      "text/plain": [
       "'WZMFVGGZP'"
      ]
     },
     "execution_count": 204,
     "metadata": {},
     "output_type": "execute_result"
    }
   ],
   "source": [
    "stacks_2 = copy.deepcopy(stacks)\n",
    "for move in moves:\n",
    "    move_crates(stacks_2[move[1]-1], stacks_2[move[2]-1],move[0],type='9001')\n",
    "print(''.join([stack[0] for stack in stacks_2]))"
   ]
  }
 ],
 "metadata": {
  "kernelspec": {
   "display_name": "Python 3.10.5 ('advent-of-code-22-wz92sbIO')",
   "language": "python",
   "name": "python3"
  },
  "language_info": {
   "codemirror_mode": {
    "name": "ipython",
    "version": 3
   },
   "file_extension": ".py",
   "mimetype": "text/x-python",
   "name": "python",
   "nbconvert_exporter": "python",
   "pygments_lexer": "ipython3",
   "version": "3.10.5"
  },
  "orig_nbformat": 4,
  "vscode": {
   "interpreter": {
    "hash": "3838113ebab7a4d11bc1acf8c1b0b3e277d678e449986ac7a2213bec89ae2e4f"
   }
  }
 },
 "nbformat": 4,
 "nbformat_minor": 2
}
