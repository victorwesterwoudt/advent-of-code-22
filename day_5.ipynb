{
 "cells": [
  {
   "cell_type": "code",
   "execution_count": 131,
   "metadata": {},
   "outputs": [],
   "source": [
    "from collections import deque\n",
    "import re\n",
    "\n",
    "input_file = 'assets/input_day_5.txt'\n",
    "with open(input_file) as f:\n",
    "    temp = f.read().splitlines()\n",
    "\n",
    "stacks = [deque(filter(lambda x: x != ' ', y)) for y in map(list, zip(*[[stack[x] for x in range(1,len(temp[0]),4)] for stack in temp[0:8]]))]\n",
    "moves = [[int(x) for x in re.match(r\"move (\\d+) from (\\d+) to (\\d+)\",m).groups()] for m in temp[10:]]\n",
    "\n"
   ]
  },
  {
   "cell_type": "code",
   "execution_count": 132,
   "metadata": {},
   "outputs": [],
   "source": [
    "def move_crates(source: deque, destination: deque, n):\n",
    "    for i in range(n):\n",
    "        destination.appendleft(source.popleft())\n",
    "\n",
    "    return source, destination"
   ]
  },
  {
   "cell_type": "code",
   "execution_count": 133,
   "metadata": {},
   "outputs": [
    {
     "ename": "TypeError",
     "evalue": "'collections.deque' object cannot be interpreted as an integer",
     "output_type": "error",
     "traceback": [
      "\u001b[0;31m---------------------------------------------------------------------------\u001b[0m",
      "\u001b[0;31mTypeError\u001b[0m                                 Traceback (most recent call last)",
      "Cell \u001b[0;32mIn[133], line 2\u001b[0m\n\u001b[1;32m      1\u001b[0m \u001b[39mfor\u001b[39;00m move \u001b[39min\u001b[39;00m moves:\n\u001b[0;32m----> 2\u001b[0m     move_crates(stacks[move[\u001b[39m1\u001b[39;49m]\u001b[39m-\u001b[39;49m\u001b[39m1\u001b[39;49m], stacks[move[\u001b[39m2\u001b[39;49m]\u001b[39m-\u001b[39;49m\u001b[39m1\u001b[39;49m],stacks[move[\u001b[39m0\u001b[39;49m]])\n",
      "Cell \u001b[0;32mIn[132], line 2\u001b[0m, in \u001b[0;36mmove_crates\u001b[0;34m(source, destination, n)\u001b[0m\n\u001b[1;32m      1\u001b[0m \u001b[39mdef\u001b[39;00m \u001b[39mmove_crates\u001b[39m(source: deque, destination: deque, n):\n\u001b[0;32m----> 2\u001b[0m     \u001b[39mfor\u001b[39;00m i \u001b[39min\u001b[39;00m \u001b[39mrange\u001b[39;49m(n):\n\u001b[1;32m      3\u001b[0m         destination\u001b[39m.\u001b[39mappendleft(source\u001b[39m.\u001b[39mpopleft())\n\u001b[1;32m      5\u001b[0m     \u001b[39mreturn\u001b[39;00m source, destination\n",
      "\u001b[0;31mTypeError\u001b[0m: 'collections.deque' object cannot be interpreted as an integer"
     ]
    }
   ],
   "source": [
    "for move in moves:\n",
    "    move_crates(stacks[move[1]-1], stacks[move[2]-1],stacks[move[0]])"
   ]
  },
  {
   "cell_type": "code",
   "execution_count": 135,
   "metadata": {},
   "outputs": [
    {
     "data": {
      "text/plain": [
       "8"
      ]
     },
     "execution_count": 135,
     "metadata": {},
     "output_type": "execute_result"
    }
   ],
   "source": [
    "move[1]-1"
   ]
  },
  {
   "cell_type": "code",
   "execution_count": 128,
   "metadata": {},
   "outputs": [
    {
     "data": {
      "text/plain": [
       "[deque(['N', 'T', 'B', 'S', 'Q', 'H', 'G', 'R']),\n",
       " deque(['J', 'Z', 'P', 'D', 'F', 'S', 'H']),\n",
       " deque(['V', 'H', 'Z']),\n",
       " deque(['H', 'G', 'F', 'J', 'Z', 'M']),\n",
       " deque(['R', 'S', 'M', 'L', 'D', 'C', 'Z', 'T']),\n",
       " deque(['J', 'Z', 'H', 'V', 'W', 'T', 'M']),\n",
       " deque(['D', 'N', 'C', 'Z', 'L', 'P', 'F', 'T']),\n",
       " deque(['S', 'W', 'V', 'Q']),\n",
       " deque(['T', 'M', 'L', 'H', 'W'])]"
      ]
     },
     "execution_count": 128,
     "metadata": {},
     "output_type": "execute_result"
    }
   ],
   "source": [
    "stacks"
   ]
  },
  {
   "cell_type": "code",
   "execution_count": 127,
   "metadata": {},
   "outputs": [
    {
     "data": {
      "text/plain": [
       "(deque(['T', 'M', 'L', 'H', 'W']),\n",
       " deque(['D', 'N', 'C', 'Z', 'L', 'P', 'F', 'T']))"
      ]
     },
     "execution_count": 127,
     "metadata": {},
     "output_type": "execute_result"
    }
   ],
   "source": [
    "move(stacks[moves[0][1]-1], stacks[moves[0][2]-1],moves[0][0])"
   ]
  },
  {
   "cell_type": "code",
   "execution_count": 109,
   "metadata": {},
   "outputs": [],
   "source": [
    "\n",
    "\n",
    "    "
   ]
  },
  {
   "cell_type": "code",
   "execution_count": null,
   "metadata": {},
   "outputs": [],
   "source": []
  }
 ],
 "metadata": {
  "kernelspec": {
   "display_name": "Python 3.10.5 ('advent-of-code-22-wz92sbIO')",
   "language": "python",
   "name": "python3"
  },
  "language_info": {
   "codemirror_mode": {
    "name": "ipython",
    "version": 3
   },
   "file_extension": ".py",
   "mimetype": "text/x-python",
   "name": "python",
   "nbconvert_exporter": "python",
   "pygments_lexer": "ipython3",
   "version": "3.10.5"
  },
  "orig_nbformat": 4,
  "vscode": {
   "interpreter": {
    "hash": "3838113ebab7a4d11bc1acf8c1b0b3e277d678e449986ac7a2213bec89ae2e4f"
   }
  }
 },
 "nbformat": 4,
 "nbformat_minor": 2
}
