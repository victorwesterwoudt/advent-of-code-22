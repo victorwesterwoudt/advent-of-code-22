{
 "cells": [
  {
   "cell_type": "code",
   "execution_count": 123,
   "metadata": {},
   "outputs": [],
   "source": [
    "import re\n",
    "from functools import cache\n"
   ]
  },
  {
   "cell_type": "code",
   "execution_count": 131,
   "metadata": {},
   "outputs": [],
   "source": [
    "class Graph(object):\n",
    "\n",
    "    def __init__(self,file,start='AA',total_time=30) -> None:\n",
    "        self._file = file\n",
    "        self._input = self.load()\n",
    "        self._opened = frozenset()\n",
    "\n",
    "    def load(self):\n",
    "        input = {}\n",
    "        with open(self._file,'r') as f:\n",
    "            temp = f.read().splitlines()\n",
    "            for t in temp: \n",
    "                v,r,e = re.match(r\"Valve ([A-Z]+) has flow rate=(\\d+); tunnel[s]? lead[s]? to valve[s]? ((?:[A-Z]+,?\\s*)+)\",t).groups()\n",
    "                r = int(r)\n",
    "                e = e.split(', ')\n",
    "\n",
    "                input[v] = {\n",
    "                    \"tto\": 1,\n",
    "                    \"rate\": r,\n",
    "                    \"connections\": e \n",
    "                }\n",
    "        return input\n",
    "    \n",
    "    @cache\n",
    "    def solve(self,pos = 'AA', time = 30, opened = frozenset(), ele_waiting= False):\n",
    "        if time == 0:\n",
    "            if ele_waiting:\n",
    "                return self.solve('AA', 26, opened)\n",
    "            return 0\n",
    "        \n",
    "        score = max(self.solve(n, time - 1 , opened, ele_waiting) for n in self._input[pos]['connections'])\n",
    "\n",
    "        if (rate := self._input[pos]['rate']) > 0 and pos not in opened:\n",
    "            new_opened = set(opened)\n",
    "            new_opened.add(pos)\n",
    "            score = max(\n",
    "                score,\n",
    "                (time - 1) * rate + self.solve(pos, time -1 , frozenset(new_opened), ele_waiting)\n",
    "            )\n",
    "        \n",
    "        return score\n",
    "\n",
    "\n",
    "\n",
    "            "
   ]
  },
  {
   "cell_type": "code",
   "execution_count": 135,
   "metadata": {},
   "outputs": [],
   "source": [
    "a = Graph('./assets/input_day_16.txt')\n",
    "a.solve('AA', 26, frozenset(), ele_waiting=False)"
   ]
  },
  {
   "cell_type": "code",
   "execution_count": 126,
   "metadata": {},
   "outputs": [
    {
     "data": {
      "text/plain": [
       "56"
      ]
     },
     "execution_count": 126,
     "metadata": {},
     "output_type": "execute_result"
    }
   ],
   "source": [
    "len(a._input)"
   ]
  },
  {
   "cell_type": "code",
   "execution_count": null,
   "metadata": {},
   "outputs": [],
   "source": []
  }
 ],
 "metadata": {
  "kernelspec": {
   "display_name": "advent-of-code-22-wz92sbIO",
   "language": "python",
   "name": "python3"
  },
  "language_info": {
   "codemirror_mode": {
    "name": "ipython",
    "version": 3
   },
   "file_extension": ".py",
   "mimetype": "text/x-python",
   "name": "python",
   "nbconvert_exporter": "python",
   "pygments_lexer": "ipython3",
   "version": "3.10.5 (main, Jul  8 2022, 22:15:15) [Clang 13.1.6 (clang-1316.0.21.2.5)]"
  },
  "orig_nbformat": 4,
  "vscode": {
   "interpreter": {
    "hash": "3838113ebab7a4d11bc1acf8c1b0b3e277d678e449986ac7a2213bec89ae2e4f"
   }
  }
 },
 "nbformat": 4,
 "nbformat_minor": 2
}
