{
 "cells": [
  {
   "cell_type": "code",
   "execution_count": 229,
   "metadata": {},
   "outputs": [],
   "source": [
    "with open('./assets/input_day_21.txt', 'r') as file:\n",
    "    input = dict(map(lambda x: tuple(map(str.lstrip,x.split(':'))), file.read().splitlines()))"
   ]
  },
  {
   "cell_type": "code",
   "execution_count": 230,
   "metadata": {},
   "outputs": [],
   "source": [
    "def solve(input, key = 'root', raise_at=None):\n",
    "    \n",
    "    if key == raise_at:\n",
    "        raise KeyError(f\"raise_key: {raise_at} found\")\n",
    "\n",
    "    try:\n",
    "        return int(input[key])\n",
    "        \n",
    "    except ValueError:\n",
    "        temp = input[key].split(' ')\n",
    "        left = solve(input,temp[0],raise_at)\n",
    "        right = solve(input,temp[2],raise_at)\n",
    "        match temp[1]:\n",
    "            case '+':\n",
    "                return int(left + right)\n",
    "            case '-':\n",
    "                return int(left - right)\n",
    "            case '*':\n",
    "                return int(left * right)\n",
    "            case '/':\n",
    "                return int(left / right)\n"
   ]
  },
  {
   "cell_type": "code",
   "execution_count": 234,
   "metadata": {},
   "outputs": [],
   "source": [
    "def solve_inv(input,key,must_equal=None,by=None):\n",
    "\n",
    "    if key == by:\n",
    "        print(must_equal)\n",
    "        return must_equal\n",
    "    try:\n",
    "        return solve(input,key,raise_at=by)\n",
    "    except KeyError:\n",
    "\n",
    "        temp = input[key].split(' ')\n",
    "        \n",
    "        try:\n",
    "            right = None\n",
    "            left = solve(input,temp[0],raise_at=by)\n",
    "        except KeyError:\n",
    "            right = solve(input,temp[2],raise_at=by)\n",
    "            left = None\n",
    "\n",
    "        if must_equal is None:\n",
    "                if left:\n",
    "                    return left + solve_inv(input,temp[2],must_equal=left,by=by)\n",
    "                else:\n",
    "                    return solve_inv(input,temp[0],must_equal=right,by=by) + right\n",
    "    \n",
    "        match temp[1]:\n",
    "            case '+':\n",
    "                if left:\n",
    "                    return left + solve_inv(input,temp[2],must_equal=must_equal-left,by=by)\n",
    "                else:\n",
    "                    return solve_inv(input,temp[0],must_equal=must_equal-right,by=by) + right\n",
    "            case '-':\n",
    "                if left:\n",
    "                    return left - solve_inv(input,temp[2],must_equal=left-must_equal,by=by)\n",
    "                else:\n",
    "                    return solve_inv(input,temp[0],must_equal=must_equal+right,by=by) - right\n",
    "            case '*':\n",
    "                if left:\n",
    "                    return left * solve_inv(input,temp[2],must_equal=must_equal/left,by=by)\n",
    "                else:\n",
    "                    return solve_inv(input,temp[0],must_equal=must_equal/right,by=by) * right\n",
    "            case '/':\n",
    "                if left:\n",
    "                    return left * solve_inv(input,temp[2],must_equal=left/must_equal,by=by)\n",
    "                else:\n",
    "                    return solve_inv(input,temp[0],must_equal=must_equal*right,by=by) * right\n",
    "\n",
    "\n"
   ]
  },
  {
   "cell_type": "code",
   "execution_count": 235,
   "metadata": {},
   "outputs": [
    {
     "data": {
      "text/plain": [
       "299983725663456"
      ]
     },
     "execution_count": 235,
     "metadata": {},
     "output_type": "execute_result"
    }
   ],
   "source": [
    "solve(input)"
   ]
  },
  {
   "cell_type": "code",
   "execution_count": 236,
   "metadata": {},
   "outputs": [
    {
     "name": "stdout",
     "output_type": "stream",
     "text": [
      "3093175982595.0\n"
     ]
    },
    {
     "data": {
      "text/plain": [
       "-1.6475224361688112e+31"
      ]
     },
     "execution_count": 236,
     "metadata": {},
     "output_type": "execute_result"
    }
   ],
   "source": [
    "solve_inv(input,'root',by='humn')"
   ]
  },
  {
   "cell_type": "code",
   "execution_count": 193,
   "metadata": {},
   "outputs": [
    {
     "data": {
      "text/plain": [
       "2"
      ]
     },
     "execution_count": 193,
     "metadata": {},
     "output_type": "execute_result"
    }
   ],
   "source": [
    "solve(input,'ljgn', raise_at='humn')"
   ]
  },
  {
   "cell_type": "code",
   "execution_count": 195,
   "metadata": {},
   "outputs": [
    {
     "data": {
      "text/plain": [
       "298.0"
      ]
     },
     "execution_count": 195,
     "metadata": {},
     "output_type": "execute_result"
    }
   ],
   "source": [
    "(600 - 4) / 2"
   ]
  },
  {
   "cell_type": "code",
   "execution_count": null,
   "metadata": {},
   "outputs": [],
   "source": []
  }
 ],
 "metadata": {
  "kernelspec": {
   "display_name": "advent-of-code-22-wz92sbIO",
   "language": "python",
   "name": "python3"
  },
  "language_info": {
   "codemirror_mode": {
    "name": "ipython",
    "version": 3
   },
   "file_extension": ".py",
   "mimetype": "text/x-python",
   "name": "python",
   "nbconvert_exporter": "python",
   "pygments_lexer": "ipython3",
   "version": "3.10.5"
  },
  "orig_nbformat": 4,
  "vscode": {
   "interpreter": {
    "hash": "3838113ebab7a4d11bc1acf8c1b0b3e277d678e449986ac7a2213bec89ae2e4f"
   }
  }
 },
 "nbformat": 4,
 "nbformat_minor": 2
}
