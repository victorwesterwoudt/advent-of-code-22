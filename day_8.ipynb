{
 "cells": [
  {
   "cell_type": "code",
   "execution_count": 222,
   "metadata": {},
   "outputs": [],
   "source": [
    "import numpy as np\n",
    "\n",
    "with open('./assets/input_day_8.txt') as file:\n",
    "    input = file.read().splitlines()\n",
    "    input = np.array([list(map(int,x)) for x in input])\n",
    "    "
   ]
  },
  {
   "cell_type": "code",
   "execution_count": 223,
   "metadata": {},
   "outputs": [],
   "source": [
    "visible_from_left = np.zeros(input.shape, dtype=int)\n",
    "visible_from_right = np.zeros(input.shape, dtype=int)\n",
    "\n",
    "for column in range(input.shape[1]):\n",
    "    visible_from_left[:,column] = (input[:,:(column+1)].argmax(axis=1) == column)\n",
    "    visible_from_right[:,-(column+1)] = (input[:,-(column+1):][:,::-1].argmax(axis=1) == column)\n",
    "\n",
    "visible_from_top = np.zeros(input.shape, dtype=int)\n",
    "visible_from_bottom = np.zeros(input.shape, dtype=int)\n",
    "\n",
    "for row in range(input.shape[0]):\n",
    "    visible_from_top[row,:] = (input[:(row+1),:].argmax(axis=0) == row)\n",
    "    visible_from_bottom[-(row+1),:] = (input[-(row+1):,:][::-1,:].argmax(axis=0) == row)   "
   ]
  },
  {
   "cell_type": "code",
   "execution_count": 224,
   "metadata": {},
   "outputs": [
    {
     "data": {
      "text/plain": [
       "1818"
      ]
     },
     "execution_count": 224,
     "metadata": {},
     "output_type": "execute_result"
    }
   ],
   "source": [
    "np.sum(visible_from_left | visible_from_right | visible_from_top | visible_from_bottom)"
   ]
  },
  {
   "cell_type": "code",
   "execution_count": 225,
   "metadata": {},
   "outputs": [],
   "source": [
    "def calc_view_score(input,r,c):\n",
    "    return [calc_view_line(input,r,c,direction) for direction in ['up','down','left','right']]\n",
    "\n",
    "def calc_view_line(input,r,c,direction='right'):\n",
    "\n",
    "    match direction:\n",
    "        case 'right':\n",
    "            line = input[r,c+1:]\n",
    "        case 'left':\n",
    "            line = input[r,:c][::-1]\n",
    "        case 'up':\n",
    "            line = input[:r,c][::-1]\n",
    "        case 'down':\n",
    "            line = input[r+1:,c]\n",
    "\n",
    "    if line.size > 0:\n",
    "        if (line >= input[r,c]).any():  \n",
    "            return list(line >= input[r,c]).index(True)+ 1\n",
    "        else:\n",
    "            return len(line)\n",
    "    else:\n",
    "        return 0 "
   ]
  },
  {
   "cell_type": "code",
   "execution_count": 226,
   "metadata": {},
   "outputs": [],
   "source": [
    "view_scores = np.zeros(input.shape, dtype=int)\n",
    "for r in range(input.shape[0]):\n",
    "    for c in range(input.shape[1]):\n",
    "        view_scores[r,c] = np.prod(calc_view_score(input,r,c))\n",
    "\n"
   ]
  },
  {
   "cell_type": "code",
   "execution_count": 227,
   "metadata": {},
   "outputs": [
    {
     "data": {
      "text/plain": [
       "368368"
      ]
     },
     "execution_count": 227,
     "metadata": {},
     "output_type": "execute_result"
    }
   ],
   "source": [
    "np.max(view_scores)"
   ]
  }
 ],
 "metadata": {
  "kernelspec": {
   "display_name": "Python 3.10.5 ('advent-of-code-22-wz92sbIO')",
   "language": "python",
   "name": "python3"
  },
  "language_info": {
   "codemirror_mode": {
    "name": "ipython",
    "version": 3
   },
   "file_extension": ".py",
   "mimetype": "text/x-python",
   "name": "python",
   "nbconvert_exporter": "python",
   "pygments_lexer": "ipython3",
   "version": "3.10.5"
  },
  "orig_nbformat": 4,
  "vscode": {
   "interpreter": {
    "hash": "3838113ebab7a4d11bc1acf8c1b0b3e277d678e449986ac7a2213bec89ae2e4f"
   }
  }
 },
 "nbformat": 4,
 "nbformat_minor": 2
}
