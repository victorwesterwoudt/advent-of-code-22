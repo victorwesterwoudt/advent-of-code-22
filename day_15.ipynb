{
 "cells": [
  {
   "cell_type": "code",
   "execution_count": 808,
   "metadata": {},
   "outputs": [],
   "source": [
    "import re\n",
    "import math\n",
    "from itertools import repeat, chain\n",
    "from functools import partial, cached_property\n",
    "import shapely"
   ]
  },
  {
   "cell_type": "code",
   "execution_count": 809,
   "metadata": {},
   "outputs": [],
   "source": [
    "class Point(object):\n",
    "    def __init__(self, point: tuple[int,int],round=12) -> None:\n",
    "        self._point = point\n",
    "        self._round = round\n",
    "\n",
    "    @property\n",
    "    def x(self):\n",
    "        return round(self._point[0],self._round)\n",
    "\n",
    "    @property\n",
    "    def y(self):\n",
    "        return round(self._point[1],self._round)\n",
    "\n",
    "    def rotated(self,degrees, **kwargs):\n",
    "        theta = degrees / 360 * 2 * math.pi\n",
    "        xr = math.cos(theta) * self.x - math.sin(theta) * self.y\n",
    "        yr = math.sin(theta) * self.x + math.cos(theta) * self.y\n",
    "        return Point((xr,yr),**kwargs)\n",
    "    \n",
    "    def dist(self,point):\n",
    "        return abs(self.x - point.x) + abs(self.y - point.y)\n",
    "\n",
    "    def __repr__(self) -> str:\n",
    "        return f\"<Point: ({self.x},{self.y})>\"\n",
    "        \n",
    "\n",
    "class Sensor(Point):\n",
    "\n",
    "    def __init__(self, location: tuple, closest_beacon: tuple) -> None:\n",
    "        self._beacon = Point(closest_beacon)\n",
    "        super().__init__(location)\n",
    "    \n",
    "    @property\n",
    "    def perimeter(self):\n",
    "        return self.dist(self._beacon)\n",
    "\n",
    "    @property\n",
    "    def points(self):\n",
    "        return (\n",
    "            Point((self.x, self.y - self.perimeter)),\n",
    "            Point((self.x+self.perimeter,self.y)),\n",
    "            Point((self.x, self.y + self.perimeter)),\n",
    "            Point((self.x - self.perimeter, self.y))\n",
    "        )\n",
    "\n",
    "    @property\n",
    "    def polygon(self):\n",
    "        return shapely.Polygon([(p.x,p.y) for p in self.points])\n",
    "    \n",
    "    @property\n",
    "    def center(self):\n",
    "        return Point((self.x,self.y))\n",
    "\n",
    "    def rotated(self, degrees):\n",
    "        return [point.rotated(degrees) for point in self.points]\n",
    "        \n",
    "\n",
    "    def __repr__(self) -> str:\n",
    "        return f\"<Sensor - ({self.x},{self.y}) - perimeter: {self.perimeter}>\"\n",
    "\n",
    "\n",
    "class Beacon(Point):\n",
    "    def __init__(self, location: tuple, probing_sensor: Sensor) -> None:\n",
    "        self._sensor = probing_sensor\n",
    "        super().__init__(location)    \n",
    "\n",
    "    def __repr__(self) -> str:\n",
    "        return f\"<Beacon - ({self.x},{self.y}) - scanned by: {self._sensor}>\"\n",
    "\n",
    "\n",
    "class Zone(object):\n",
    "\n",
    "    def __init__(self, corners: list[Point]) -> None:\n",
    "        self._corners = corners\n",
    "        pass\n",
    "\n",
    "    \n",
    "    def __repr__(self) -> str:\n",
    "        return f\"<Zone defined by corners: {self._corners}\"\n",
    "\n",
    "\n",
    "\n",
    "class Map(object):\n",
    "\n",
    "    def __init__(self,file: str,pad: bool = True) -> None:\n",
    "        self._pad = pad\n",
    "        self._file = file\n",
    "        self._input = self._read_input()\n",
    "        self._sensors: list[Sensor] = [Sensor(*x) for x in self._input]\n",
    "        self._beacons: list[Beacon] = [Beacon(x[1],y) for x,y in zip(self._input,self._sensors)]\n",
    "        pass\n",
    "\n",
    "    def _read_input(self) -> list[list[tuple[int,int],tuple[int,int]]]:\n",
    "        with open(self._file,'r') as file:\n",
    "            input = [[tuple(map(int,re.findall(r\"([-]*\\d+)\",y))) for y \\\n",
    "                 in i.split(':')] for i in file.read().splitlines()]\n",
    "            return input\n",
    "\n",
    "    @cached_property\n",
    "    def objects(self):\n",
    "        return self._sensors + self._beacons\n",
    "\n",
    "    @cached_property\n",
    "    def extent(self) -> tuple[tuple[int,int],tuple[int,int]]:\n",
    "        xs = [point.x for point in self.objects]\n",
    "        ys = [point.y for point in self.objects]\n",
    "\n",
    "        if self._pad:\n",
    "            mp = max([s.perimeter for s in self._sensors])\n",
    "            return (min(xs)-mp,min(ys)-mp),(max(xs)+mp,max(ys)+mp)\n",
    "        else:\n",
    "            return (min(xs),min(ys)), (max(xs),max(ys))\n",
    "\n",
    "            \n"
   ]
  },
  {
   "cell_type": "code",
   "execution_count": 810,
   "metadata": {},
   "outputs": [],
   "source": [
    "m = Map('./assets/input_day_15.txt',pad=False)"
   ]
  },
  {
   "cell_type": "code",
   "execution_count": 827,
   "metadata": {},
   "outputs": [],
   "source": [
    "fov = shapely.Polygon([(0,0),(4000000,0),(4000000,4000000),(0,4000000)])\n",
    "union = shapely.union_all([x.polygon for x in m._sensors])\n",
    "b = shapely.difference(fov,shapely.intersection(union,fov))"
   ]
  },
  {
   "cell_type": "code",
   "execution_count": 846,
   "metadata": {},
   "outputs": [
    {
     "name": "stdout",
     "output_type": "stream",
     "text": [
      "12625383204261.0\n"
     ]
    }
   ],
   "source": [
    "for x in set(b.exterior.coords.xy[0]):\n",
    "    for y in set(b.exterior.coords.xy[1]):\n",
    "        temp = Point((int(x),int(y)))\n",
    "        if not any([temp.dist(sensor) <= sensor.perimeter for sensor in m._sensors]):\n",
    "            print(x * 4000000 + y)\n",
    "\n",
    "\n",
    "# [Point((x,y)) for x,y in zip(*b.exterior.coords.xy[:])]"
   ]
  },
  {
   "cell_type": "code",
   "execution_count": 259,
   "metadata": {},
   "outputs": [
    {
     "data": {
      "text/plain": [
       "5688618"
      ]
     },
     "execution_count": 259,
     "metadata": {},
     "output_type": "execute_result"
    }
   ],
   "source": [
    "y_row = 2000000\n",
    "len(set(chain(*[_insight(inp,y_row) for inp in input]))) - len(set([x[1] for x in input if x[1][1]== y_row])) - len(set([x[0] for x in input if x[0][1]== y_row]))\n",
    "\n"
   ]
  }
 ],
 "metadata": {
  "kernelspec": {
   "display_name": "Python 3.10.5 ('advent-of-code-22-wz92sbIO')",
   "language": "python",
   "name": "python3"
  },
  "language_info": {
   "codemirror_mode": {
    "name": "ipython",
    "version": 3
   },
   "file_extension": ".py",
   "mimetype": "text/x-python",
   "name": "python",
   "nbconvert_exporter": "python",
   "pygments_lexer": "ipython3",
   "version": "3.10.5"
  },
  "orig_nbformat": 4,
  "vscode": {
   "interpreter": {
    "hash": "3838113ebab7a4d11bc1acf8c1b0b3e277d678e449986ac7a2213bec89ae2e4f"
   }
  }
 },
 "nbformat": 4,
 "nbformat_minor": 2
}
