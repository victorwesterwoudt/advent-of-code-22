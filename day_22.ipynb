{
 "cells": [
  {
   "cell_type": "code",
   "execution_count": 24,
   "metadata": {},
   "outputs": [],
   "source": [
    "import re\n",
    "import math\n",
    "from functools import cached_property"
   ]
  },
  {
   "cell_type": "code",
   "execution_count": 32,
   "metadata": {},
   "outputs": [],
   "source": [
    "class Maze(object):\n",
    "    DVEC = {\n",
    "        0: (0,1),\n",
    "        1: (1,0),\n",
    "        2: (0,-1),\n",
    "        3: (-1,0),\n",
    "    }\n",
    "\n",
    "    def __init__(self,file,start_direction = 0,geometry='plane') -> None:\n",
    "        self._file = file\n",
    "        self._start_direction = start_direction\n",
    "        self._maze, self._size, self._moves, self._start = self._load_input()\n",
    "        self._steps = [self._start]\n",
    "        self._geometry = geometry\n",
    "        self.trace()\n",
    "\n",
    "    @cached_property\n",
    "    def qs(self):\n",
    "        return int(math.sqrt(len(self._maze)/6))\n",
    "\n",
    "    @cached_property\n",
    "    def edges(self):\n",
    "        edges = {}\n",
    "\n",
    "        edges.update({((0,x),3):((y,0),0) for x,y in zip(range(self.qs*1,self.qs*2),range(self.qs*3,self.qs*4))})\n",
    "        edges.update({((0,x),3):((self.qs*4-1,y),3) for x,y in zip(range(self.qs*2,self.qs*3),range(self.qs*0,self.qs*1))})\n",
    "        edges.update({((x,self.qs*3-1),0):((y,self.qs*2-1),2) for x,y in zip(range(self.qs*0,self.qs*1),reversed(range(self.qs*2,self.qs*3)))})\n",
    "        edges.update({((self.qs*1-1,x),1):((y,self.qs*2-1),2) for x,y in zip(range(self.qs*2,self.qs*3),range(self.qs*1,self.qs*2))})\n",
    "        edges.update({((self.qs*3-1,x),1):((y,self.qs*1-1),2) for x,y in zip(range(self.qs*1,self.qs*2),range(self.qs*3,self.qs*4))})\n",
    "        edges.update({((x,self.qs*1),2):((self.qs*2,y),1) for x,y in zip(range(self.qs*1,self.qs*2),range(self.qs*0,self.qs*1))})\n",
    "        edges.update({((x,self.qs*1),2):((y,0),0) for x,y in zip(range(self.qs*0,self.qs*1),reversed(range(self.qs*2,self.qs*3)))})\n",
    "\n",
    "        # edges.update({((0,x),3):((4,y),1) for x,y in zip(range(8,12),reversed(range(0,4)))})\n",
    "        # edges.update({((x,8),2):((4,y),1) for x,y in zip(range(0,4),range(4,8))})\n",
    "        # edges.update({((x,11),0):((y,15),2) for x,y in zip(range(0,4),reversed(range(8,12)))})\n",
    "        # edges.update({((x,11),0):((8,y),1) for x,y in zip(range(4,8),reversed(range(12,16)))})\n",
    "        # edges.update({((7,x),1):((y,8),0) for x,y in zip(range(4,8),reversed(range(8,12)))})   \n",
    "        # edges.update({((7,x),1):((11,y),3) for x,y in zip(range(0,4),reversed(range(8,12)))})\n",
    "        # edges.update({((x,0),2):((11,y),3) for x,y in zip(range(4,8),reversed(range(12,16)))})\n",
    "\n",
    "        edges.update({(v[0],(v[1]-2) % 4):(k[0],(k[1]-2) % 4 ) for k,v in edges.items()})\n",
    "\n",
    "        return edges\n",
    "\n",
    "\n",
    "    def _load_input(self):\n",
    "        with open(self._file, 'r') as file:\n",
    "            input = [line for line in file.read().splitlines() if line != '']\n",
    "        \n",
    "        \n",
    "        movements = input.pop(-1)\n",
    "        size = (len(input), max([len(x) for x in input]))\n",
    "\n",
    "        board = {}\n",
    "\n",
    "        for r,line in enumerate(input):\n",
    "            for c in range(size[1]):\n",
    "                if (c < len(line)) and (v := line[c]) != ' ':\n",
    "                    board[(r,c)] = v\n",
    "        \n",
    "\n",
    "        steps = list(map(int,re.split(r\"[RL]\",movements)))\n",
    "        rotations = [x for x in re.split(r\"\\d\",movements) if x != '']\n",
    "        moves = [x for y  in zip(steps,rotations) for x in y]\n",
    "        if len(steps) + len(rotations) > len(moves):\n",
    "            moves.append(steps[-1])\n",
    "\n",
    "        start = [((0,c),self._start_direction) for c in range(size[1]) if board.get((0,c))][0]\n",
    "\n",
    "        return board, size, moves, start\n",
    "\n",
    "    \n",
    "    def rotate(self,position,direction):\n",
    "        # > = 0\n",
    "        # v = 1\n",
    "        # < = 2\n",
    "        # ^ = 3\n",
    "\n",
    "        match direction:\n",
    "            case \"L\":\n",
    "                return (position[0],(position[1] - 1) % 4)\n",
    "            case \"R\":\n",
    "                return (position[0],(position[1] + 1) % 4)\n",
    "    \n",
    "    def move(self,position,steps):\n",
    "\n",
    "\n",
    "        direction = position[1]\n",
    "        temp_pos = position[0]\n",
    "        pos = temp_pos\n",
    "        i = 0\n",
    "        \n",
    "        while i < steps:\n",
    "            if self._geometry == 'cube' and ((temp_pos,direction) in self.edges):\n",
    "                next_pos, next_direction = self.edges[(temp_pos,direction)]\n",
    "            else:\n",
    "                next_pos = tuple([x+y for x,y in zip(temp_pos,self.DVEC[direction])])\n",
    "                next_pos = (next_pos[0] % self._size[0], next_pos[1] % self._size[1])\n",
    "                next_direction = direction\n",
    "\n",
    "            if v := self._maze.get(next_pos):\n",
    "                if v == '.':\n",
    "                    i+=1\n",
    "                    pos = next_pos\n",
    "                elif v == '#':\n",
    "                    break\n",
    "                else:\n",
    "                    continue\n",
    "            \n",
    "            temp_pos = next_pos\n",
    "            direction = next_direction\n",
    "        return (pos, direction)\n",
    "\n",
    "    def trace(self):\n",
    "        for move in self._moves:\n",
    "            if isinstance(move,int):\n",
    "                step = self.move(self._steps[-1],move)\n",
    "            elif move in ['L','R']:\n",
    "                step = self.rotate(self._steps[-1],move)\n",
    "            else:\n",
    "                raise ValueError(f\"unrecognized move: {move}\")\n",
    "\n",
    "            self._steps.append(step)\n",
    "\n",
    "\n",
    "    @property\n",
    "    def score(self):\n",
    "        return ((self._steps[-1][0][0] + 1) * 1000 + ((self._steps[-1][0][1] + 1) * 4 + self._steps[-1][1]))\n"
   ]
  },
  {
   "cell_type": "code",
   "execution_count": 33,
   "metadata": {},
   "outputs": [
    {
     "data": {
      "text/plain": [
       "50412"
      ]
     },
     "execution_count": 33,
     "metadata": {},
     "output_type": "execute_result"
    }
   ],
   "source": [
    "pt1 = Maze('./assets/input_day_22.txt',geometry='plane')\n",
    "pt1.score"
   ]
  },
  {
   "cell_type": "code",
   "execution_count": 34,
   "metadata": {},
   "outputs": [
    {
     "data": {
      "text/plain": [
       "130068"
      ]
     },
     "execution_count": 34,
     "metadata": {},
     "output_type": "execute_result"
    }
   ],
   "source": [
    "pt2 = Maze('./assets/input_day_22.txt',geometry='cube')\n",
    "pt2.score"
   ]
  }
 ],
 "metadata": {
  "kernelspec": {
   "display_name": "advent-of-code-22-wz92sbIO",
   "language": "python",
   "name": "python3"
  },
  "language_info": {
   "codemirror_mode": {
    "name": "ipython",
    "version": 3
   },
   "file_extension": ".py",
   "mimetype": "text/x-python",
   "name": "python",
   "nbconvert_exporter": "python",
   "pygments_lexer": "ipython3",
   "version": "3.10.5"
  },
  "orig_nbformat": 4,
  "vscode": {
   "interpreter": {
    "hash": "3838113ebab7a4d11bc1acf8c1b0b3e277d678e449986ac7a2213bec89ae2e4f"
   }
  }
 },
 "nbformat": 4,
 "nbformat_minor": 2
}
