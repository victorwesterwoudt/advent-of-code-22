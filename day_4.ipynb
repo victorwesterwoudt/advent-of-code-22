{
 "cells": [
  {
   "cell_type": "code",
   "execution_count": 63,
   "metadata": {},
   "outputs": [],
   "source": [
    "import re\n",
    "\n",
    "input_file = 'assets/input_day_4.txt'\n",
    "with open(input_file) as f:\n",
    "    temp = f.read().splitlines()\n",
    "    groups = [\n",
    "        [set(range(int(x[0]),int(x[1])+1)) for x in \n",
    "            zip(*(iter(re.match(r\"(\\d+)\\-(\\d+)\\,(\\d+)\\-(\\d+)\",t).groups()),) *2 )] \n",
    "                for t in temp]\n",
    "    "
   ]
  },
  {
   "cell_type": "code",
   "execution_count": 74,
   "metadata": {},
   "outputs": [
    {
     "name": "stdout",
     "output_type": "stream",
     "text": [
      "in 534 cases, the set of one of elf of the pair is fully contain in the other ones set\n",
      "in 841 cases there is some form of overlap in the two elves' sets\n"
     ]
    }
   ],
   "source": [
    "contains = 0\n",
    "overlap = 0\n",
    "for group in groups:\n",
    "    contains += any([(group[0] | group[1]) == x for x in group])\n",
    "    overlap += len(group[0] & group[1]) != 0\n",
    "\n",
    "\n",
    "print(f\"in {contains} cases, the set of one of elf of the pair is fully contain in the other ones set\")\n",
    "print(f\"in {overlap} cases there is some form of overlap in the two elves' sets\")\n",
    "    "
   ]
  }
 ],
 "metadata": {
  "kernelspec": {
   "display_name": "Python 3.10.5 ('advent-of-code-22-wz92sbIO')",
   "language": "python",
   "name": "python3"
  },
  "language_info": {
   "codemirror_mode": {
    "name": "ipython",
    "version": 3
   },
   "file_extension": ".py",
   "mimetype": "text/x-python",
   "name": "python",
   "nbconvert_exporter": "python",
   "pygments_lexer": "ipython3",
   "version": "3.10.5"
  },
  "orig_nbformat": 4,
  "vscode": {
   "interpreter": {
    "hash": "3838113ebab7a4d11bc1acf8c1b0b3e277d678e449986ac7a2213bec89ae2e4f"
   }
  }
 },
 "nbformat": 4,
 "nbformat_minor": 2
}
