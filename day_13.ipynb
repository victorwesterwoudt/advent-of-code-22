{
 "cells": [
  {
   "cell_type": "code",
   "execution_count": 205,
   "metadata": {},
   "outputs": [],
   "source": [
    "import ast\n",
    "from functools import reduce\n",
    "from operator import mul\n",
    "\n",
    "def chunks(lst, n, f= lambda x: x != ''):\n",
    "    for i in range(0, len(lst), n):\n",
    "        yield [ast.literal_eval(x) for x in list(filter(f,lst[i:i + n]))]\n",
    "\n",
    "def evaluate(left,right):\n",
    "    output = None\n",
    "    i = 0 \n",
    "    while output is None:\n",
    "        if i >= max(len(left),len(right)):\n",
    "            return None\n",
    "        try:\n",
    "            l = left[i]\n",
    "            r = right[i]\n",
    "            if isinstance(l,list) or isinstance(r,list):\n",
    "                if isinstance(l,int):\n",
    "                    l = [l]\n",
    "                elif isinstance(r,int):\n",
    "                    r = [r]\n",
    "                output = evaluate(l,r)\n",
    "            else:\n",
    "                if l < r:\n",
    "                    output = True\n",
    "                elif l == r:\n",
    "                    pass\n",
    "                else:\n",
    "                    output = False\n",
    "            i += 1\n",
    "        except IndexError:\n",
    "            if len(left) < len(right):\n",
    "                output = True\n",
    "            else:\n",
    "                output = False\n",
    "\n",
    "    return output\n",
    "\n",
    "\n",
    "def bubblesort(signals):\n",
    "    n = len(signals)\n",
    "    \n",
    "    swapped = False\n",
    "    \n",
    "    for i in range(n-1):\n",
    "        for j in range(0, n-i-1):\n",
    "\n",
    "            if not evaluate(signals[j], signals[j+1]):\n",
    "                swapped = True\n",
    "                signals[j], signals[j + 1] = signals[j + 1], signals[j]\n",
    "         \n",
    "        if not swapped:\n",
    "            return\n",
    "        "
   ]
  },
  {
   "cell_type": "code",
   "execution_count": 200,
   "metadata": {},
   "outputs": [],
   "source": [
    "with open('./assets/input_day_13.txt','r') as file:\n",
    "    input = file.read().splitlines()\n",
    "    pairs = list(chunks(input,3))\n",
    "\n",
    "dividers = [[[2]],[[6]]]\n",
    "\n",
    "signals = [signal for signals in pairs for signal in signals]\n",
    "signals.extend(dividers)\n",
    "bubblesort(signals)\n"
   ]
  },
  {
   "cell_type": "code",
   "execution_count": 201,
   "metadata": {},
   "outputs": [
    {
     "data": {
      "text/plain": [
       "4643"
      ]
     },
     "execution_count": 201,
     "metadata": {},
     "output_type": "execute_result"
    }
   ],
   "source": [
    "sum([i+1 for i,x in enumerate(pairs) if evaluate(x[0],x[1])])"
   ]
  },
  {
   "cell_type": "code",
   "execution_count": 207,
   "metadata": {},
   "outputs": [
    {
     "data": {
      "text/plain": [
       "21614"
      ]
     },
     "execution_count": 207,
     "metadata": {},
     "output_type": "execute_result"
    }
   ],
   "source": [
    "reduce(mul,[i+1 for i,x in enumerate(signals) if x in [[[2]],[[6]]]])"
   ]
  }
 ],
 "metadata": {
  "kernelspec": {
   "display_name": "Python 3.10.5 ('advent-of-code-22-wz92sbIO')",
   "language": "python",
   "name": "python3"
  },
  "language_info": {
   "codemirror_mode": {
    "name": "ipython",
    "version": 3
   },
   "file_extension": ".py",
   "mimetype": "text/x-python",
   "name": "python",
   "nbconvert_exporter": "python",
   "pygments_lexer": "ipython3",
   "version": "3.10.5"
  },
  "orig_nbformat": 4,
  "vscode": {
   "interpreter": {
    "hash": "3838113ebab7a4d11bc1acf8c1b0b3e277d678e449986ac7a2213bec89ae2e4f"
   }
  }
 },
 "nbformat": 4,
 "nbformat_minor": 2
}
