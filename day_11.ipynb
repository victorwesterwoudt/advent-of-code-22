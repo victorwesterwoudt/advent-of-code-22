{
 "cells": [
  {
   "cell_type": "code",
   "execution_count": 218,
   "metadata": {},
   "outputs": [],
   "source": [
    "from functools import reduce\n",
    "import copy"
   ]
  },
  {
   "cell_type": "code",
   "execution_count": 254,
   "metadata": {},
   "outputs": [],
   "source": [
    "monkeys = {\n",
    "    0: {\n",
    "        \"items\": [93, 54, 69, 66, 71],\n",
    "        \"operation\": lambda x: x * 3,\n",
    "        \"test\": 7,\n",
    "        \"throw\": {True: 7, False: 1},\n",
    "        \"inspects\": 0\n",
    "    },\n",
    "    1: {\n",
    "        \"items\": [89, 51, 80, 66],\n",
    "        \"operation\": lambda x: x * 17,\n",
    "        \"test\": 19,\n",
    "        \"throw\": {True: 5, False: 7},\n",
    "        \"inspects\": 0\n",
    "    },\n",
    "    2: {\n",
    "        \"items\": [90, 92, 63, 91, 96, 63, 64],\n",
    "        \"operation\": lambda x: x + 1,\n",
    "        \"test\": 13,\n",
    "        \"throw\": {True: 4, False: 3},\n",
    "        \"inspects\": 0\n",
    "    },\n",
    "    3: {\n",
    "        \"items\": [65, 77],\n",
    "        \"operation\": lambda x: x + 2,\n",
    "        \"test\": 3,\n",
    "        \"throw\": {True: 4, False: 6},\n",
    "        \"inspects\": 0\n",
    "    },\n",
    "    4: {\n",
    "        \"items\": [76, 68, 94],\n",
    "        \"operation\": lambda x: x * x,\n",
    "        \"test\": 2,\n",
    "        \"throw\": {True: 0, False: 6},\n",
    "        \"inspects\": 0\n",
    "    },\n",
    "    5: {\n",
    "        \"items\": [86, 65, 66, 97, 73, 83],\n",
    "        \"operation\": lambda x: x + 8,\n",
    "        \"test\": 11,\n",
    "        \"throw\": {True: 2, False: 3},\n",
    "        \"inspects\": 0\n",
    "    },\n",
    "    6: {\n",
    "        \"items\": [78],\n",
    "        \"operation\": lambda x: x + 6,\n",
    "        \"test\": 17,\n",
    "        \"throw\": {True: 0, False: 1},\n",
    "        \"inspects\": 0\n",
    "    },\n",
    "    7: {\n",
    "        \"items\": [89, 57, 59, 61, 87, 55, 55, 88],\n",
    "        \"operation\": lambda x: x + 7,\n",
    "        \"test\": 5,\n",
    "        \"throw\": {True: 2, False: 5},\n",
    "        \"inspects\": 0\n",
    "    }\n",
    "}"
   ]
  },
  {
   "cell_type": "code",
   "execution_count": 259,
   "metadata": {},
   "outputs": [],
   "source": [
    "def keep_away(monkeys, rounds, dampen=3):\n",
    "    monkeys = copy.deepcopy(monkeys)\n",
    "\n",
    "    total_modulus = reduce(lambda x,y : x * y, [x['test'] for x in monkeys.values()],1)\n",
    "\n",
    "    for _ in range(rounds):\n",
    "        for _,props in monkeys.items():\n",
    "            while len(props['items']) > 0:\n",
    "                props['inspects'] += 1\n",
    "                worry = int(props['operation'](props[\"items\"].pop(0))/dampen)\n",
    "                throw = (worry % props['test'] == 0)\n",
    "                monkeys[props['throw'][throw]]['items'].append(worry % total_modulus)\n",
    "\n",
    "    \n",
    "\n",
    "    return sorted([v['inspects'] for v in monkeys.values()],reverse=True)[0:2]    "
   ]
  },
  {
   "cell_type": "code",
   "execution_count": 260,
   "metadata": {},
   "outputs": [
    {
     "name": "stdout",
     "output_type": "stream",
     "text": [
      "the level of monkey business after 20 rounds with a worry reducer = 58794\n",
      "the level of monkey business after 10000 rounds without a worry reducer = 20151213744\n"
     ]
    }
   ],
   "source": [
    "print(f\"the level of monkey business after {20} rounds with a worry reducer = {reduce(lambda x,y: x*y, keep_away(monkeys,20, dampen=3))}\")\n",
    "print(f\"the level of monkey business after {10000} rounds without a worry reducer = {reduce(lambda x,y: x*y, keep_away(monkeys,10000, dampen=1))}\")"
   ]
  }
 ],
 "metadata": {
  "kernelspec": {
   "display_name": "Python 3.10.5 ('advent-of-code-22-wz92sbIO')",
   "language": "python",
   "name": "python3"
  },
  "language_info": {
   "codemirror_mode": {
    "name": "ipython",
    "version": 3
   },
   "file_extension": ".py",
   "mimetype": "text/x-python",
   "name": "python",
   "nbconvert_exporter": "python",
   "pygments_lexer": "ipython3",
   "version": "3.10.5"
  },
  "orig_nbformat": 4,
  "vscode": {
   "interpreter": {
    "hash": "3838113ebab7a4d11bc1acf8c1b0b3e277d678e449986ac7a2213bec89ae2e4f"
   }
  }
 },
 "nbformat": 4,
 "nbformat_minor": 2
}
