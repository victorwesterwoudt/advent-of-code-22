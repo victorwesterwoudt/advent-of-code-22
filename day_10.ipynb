{
 "cells": [
  {
   "cell_type": "code",
   "execution_count": 89,
   "metadata": {},
   "outputs": [],
   "source": [
    "import re\n",
    "with open('./assets/input_day_10.txt') as file:\n",
    "    input = file.read().splitlines()"
   ]
  },
  {
   "cell_type": "code",
   "execution_count": 99,
   "metadata": {},
   "outputs": [],
   "source": [
    "state = [1]\n",
    "for i, cycle in enumerate(input):\n",
    "    addx = re.match(r\"addx (-?\\d+)\",cycle)\n",
    "    state.append(state[-1])\n",
    "    if addx:\n",
    "        state.append(state[-1]+int(addx.groups()[0]))"
   ]
  },
  {
   "cell_type": "code",
   "execution_count": 100,
   "metadata": {},
   "outputs": [
    {
     "data": {
      "text/plain": [
       "15020"
      ]
     },
     "execution_count": 100,
     "metadata": {},
     "output_type": "execute_result"
    }
   ],
   "source": [
    "cycleselect = [20,60,100,140,180,220]\n",
    "sum([x*y for x,y in zip([state[x-1] for x in cycleselect],cycleselect)])"
   ]
  },
  {
   "cell_type": "code",
   "execution_count": 101,
   "metadata": {},
   "outputs": [
    {
     "name": "stdout",
     "output_type": "stream",
     "text": [
      "████ ████ █  █  ██  █    ███   ██  ███  \n",
      "█    █    █  █ █  █ █    █  █ █  █ █  █ \n",
      "███  ███  █  █ █    █    █  █ █  █ █  █ \n",
      "█    █    █  █ █ ██ █    ███  ████ ███  \n",
      "█    █    █  █ █  █ █    █    █  █ █    \n",
      "████ █     ██   ███ ████ █    █  █ █    \n"
     ]
    }
   ],
   "source": [
    "lines = 6\n",
    "line_length = 40\n",
    "display = []\n",
    "for i,s in enumerate(state):\n",
    "    if i % line_length in range(s-1,s+2):\n",
    "        display.append('\\u2588')\n",
    "    else:\n",
    "        display.append(' ')\n",
    "\n",
    "for line in range(lines):\n",
    "    print(''.join(display[line*line_length:(line+1)*line_length]))\n"
   ]
  }
 ],
 "metadata": {
  "kernelspec": {
   "display_name": "Python 3.10.5 ('advent-of-code-22-wz92sbIO')",
   "language": "python",
   "name": "python3"
  },
  "language_info": {
   "codemirror_mode": {
    "name": "ipython",
    "version": 3
   },
   "file_extension": ".py",
   "mimetype": "text/x-python",
   "name": "python",
   "nbconvert_exporter": "python",
   "pygments_lexer": "ipython3",
   "version": "3.10.5"
  },
  "orig_nbformat": 4,
  "vscode": {
   "interpreter": {
    "hash": "3838113ebab7a4d11bc1acf8c1b0b3e277d678e449986ac7a2213bec89ae2e4f"
   }
  }
 },
 "nbformat": 4,
 "nbformat_minor": 2
}
