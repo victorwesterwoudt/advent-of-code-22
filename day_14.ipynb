{
 "cells": [
  {
   "cell_type": "code",
   "execution_count": 89,
   "metadata": {},
   "outputs": [],
   "source": [
    "import numpy as np\n",
    "import matplotlib.pyplot as plt\n",
    "from functools import cached_property"
   ]
  },
  {
   "cell_type": "code",
   "execution_count": 96,
   "metadata": {},
   "outputs": [],
   "source": [
    "class Map:\n",
    "    def __init__(self, traces: list[tuple[int,int]], source: tuple[int,int],padding=(2,2), dfloor = None) -> None:\n",
    "\n",
    "        self._padding = padding\n",
    "        self._traces = traces\n",
    "        self._source = source\n",
    "        self._dfloor = dfloor\n",
    "        self._sand = 0\n",
    "\n",
    "        self._map = np.zeros(self.size,dtype=int)\n",
    "        self._draw_traces()\n",
    "        self._draw_source()\n",
    "        \n",
    "    def _draw_source(self):\n",
    "        self._map[self._normalized_source[::-1]] = 5\n",
    "    \n",
    "    def _draw_traces(self):\n",
    "        for trace in self._normalized_traces:\n",
    "            for i in range(len(trace)-1):\n",
    "                try:\n",
    "                    xrange = sorted((trace[i][0],trace[i+1][0]))\n",
    "                    yrange = sorted((trace[i][1],trace[i+1][1]))\n",
    "                    xrange[-1] += 1\n",
    "                    yrange[-1] += 1\n",
    "                    self._map[range(*yrange),range(*xrange)] = 10\n",
    "                except IndexError as e:\n",
    "                    print(trace,i)\n",
    "                    print(xrange)\n",
    "                    print(yrange)\n",
    "                    raise(e)\n",
    "                \n",
    "    def _normalize_vertex(self,vertex):\n",
    "        return tuple([x-y for x,y in zip(vertex,self.boundaries[0])])        \n",
    "            \n",
    "    @cached_property\n",
    "    def _normalized_source(self):\n",
    "        return self._normalize_vertex(self._source)\n",
    "\n",
    "    @cached_property\n",
    "    def _normalized_traces(self):\n",
    "        return [[self._normalize_vertex(t) for t in trace ]for trace in self._traces]\n",
    "\n",
    "    @cached_property\n",
    "    def _coords(self):\n",
    "        return [coord for coords in self._traces for coord in coords] + [(self._source)]\n",
    "\n",
    "    @cached_property\n",
    "    def boundaries(self) -> list[int,int,int,int]:\n",
    "        return [\n",
    "            (min([c[0] for c in self._coords])-self._padding[0],min([c[1] for c in self._coords])-self._padding[1]),\n",
    "            (max([c[0] for c in self._coords])+self._padding[0],max([c[1] for c in self._coords])+self._padding[1])\n",
    "        ]\n",
    "    @cached_property\n",
    "    def size(self):\n",
    "        return tuple([y - x + 1 for x,y in zip(self.boundaries[0],self.boundaries[1])])[::-1]\n",
    "\n",
    "    def drop(self,origin):\n",
    "\n",
    "        los = self._map[(origin[1]+1):,origin[0]] != 0\n",
    "            \n",
    "        if not any(los):\n",
    "            if self._dfloor:\n",
    "                return (origin[0],self.size[0]-self._padding[1] + self._dfloor -2 )\n",
    "            else:\n",
    "                return (origin[0],np.inf)\n",
    "            \n",
    "        dest = (origin[0],np.argmax(los)+origin[1])\n",
    "        \n",
    "        \n",
    "        left_down = (dest[0]-1,dest[1]+1)\n",
    "        right_down = (dest[0]+1,dest[1]+1)\n",
    "\n",
    "        if dest == self._normalized_source and self._map[left_down[::-1]] != 0 and self._map[right_down[::-1]] != 0:\n",
    "            return self._normalized_source\n",
    "            \n",
    "        if self._map[left_down[::-1]] == 0:\n",
    "            return self.drop(left_down)\n",
    "        elif self._map[right_down[::-1]] == 0:\n",
    "            return self.drop(right_down)\n",
    "        else:\n",
    "            return dest\n",
    "\n",
    "    def fill(self):\n",
    "        self._sand = 0\n",
    "        j = 10\n",
    "        while True:\n",
    "            dest = self.drop(self._normalized_source)\n",
    "            \n",
    "            if np.inf in dest:\n",
    "                break\n",
    "\n",
    "            if dest == self._normalized_source:\n",
    "                self._sand += 1\n",
    "                break \n",
    "\n",
    "            self._map[dest[::-1]] = 5\n",
    "            self._sand += 1\n",
    "            if self._sand % j == 0:\n",
    "                j *= 10\n",
    "                print(f\"{self._sand} units of sand have poored into the save so far\")           \n",
    "\n",
    "        print(f\"it took: {self._sand} units of sand to fill the cave\")           \n",
    "\n",
    "    def __repr__(self) -> str:\n",
    "        # return np.array2string(self._map)\n",
    "        plt.imshow(self._map, interpolation=None, cmap='binary')\n",
    "        plt.axis('off')\n",
    "        return ''\n",
    "\n",
    "    def __str__(self) -> str:\n",
    "        plt.imshow(self._map, interpolation=None, cmap='binary')\n",
    "        plt.axis('off')\n",
    "        plt.show(block=False)\n",
    "        return ''"
   ]
  },
  {
   "cell_type": "code",
   "execution_count": 97,
   "metadata": {},
   "outputs": [],
   "source": [
    "with open('./assets/input_day_14.txt','r') as file:\n",
    "    input = list(map(lambda line: [tuple([int(y) for y in x.split(',')]) for  x in line.split(' -> ')],file.read().splitlines()))\n",
    "\n",
    "    a = Map(input,(500,0),padding=(2,2))\n",
    "    b = Map(input,(500,0),padding=(175,10),dfloor=2)\n",
    "    "
   ]
  },
  {
   "cell_type": "code",
   "execution_count": 98,
   "metadata": {},
   "outputs": [
    {
     "name": "stdout",
     "output_type": "stream",
     "text": [
      "10 units of sand have poored into the save so far\n",
      "100 units of sand have poored into the save so far\n",
      "it took: 665 units of sand to fill the cave\n"
     ]
    },
    {
     "data": {
      "image/png": "[encoded data removed]",
      "text/plain": [
       "<Figure size 640x480 with 1 Axes>"
      ]
     },
     "metadata": {},
     "output_type": "display_data"
    },
    {
     "name": "stdout",
     "output_type": "stream",
     "text": [
      "\n"
     ]
    }
   ],
   "source": [
    "a.fill()\n",
    "print(a)"
   ]
  },
  {
   "cell_type": "code",
   "execution_count": 99,
   "metadata": {},
   "outputs": [
    {
     "name": "stdout",
     "output_type": "stream",
     "text": [
      "10 units of sand have poored into the save so far\n",
      "100 units of sand have poored into the save so far\n",
      "1000 units of sand have poored into the save so far\n",
      "10000 units of sand have poored into the save so far\n",
      "it took: 25434 units of sand to fill the cave\n"
     ]
    },
    {
     "data": {
      "image/png": "[encoded data removed]",
      "text/plain": [
       "<Figure size 640x480 with 1 Axes>"
      ]
     },
     "metadata": {},
     "output_type": "display_data"
    },
    {
     "name": "stdout",
     "output_type": "stream",
     "text": [
      "\n"
     ]
    }
   ],
   "source": [
    "b.fill()\n",
    "print(b)"
   ]
  },
  {
   "cell_type": "code",
   "execution_count": null,
   "metadata": {},
   "outputs": [],
   "source": []
  }
 ],
 "metadata": {
  "kernelspec": {
   "display_name": "Python 3.10.5 ('advent-of-code-22-wz92sbIO')",
   "language": "python",
   "name": "python3"
  },
  "language_info": {
   "codemirror_mode": {
    "name": "ipython",
    "version": 3
   },
   "file_extension": ".py",
   "mimetype": "text/x-python",
   "name": "python",
   "nbconvert_exporter": "python",
   "pygments_lexer": "ipython3",
   "version": "3.10.5"
  },
  "orig_nbformat": 4,
  "vscode": {
   "interpreter": {
    "hash": "3838113ebab7a4d11bc1acf8c1b0b3e277d678e449986ac7a2213bec89ae2e4f"
   }
  }
 },
 "nbformat": 4,
 "nbformat_minor": 2
}
