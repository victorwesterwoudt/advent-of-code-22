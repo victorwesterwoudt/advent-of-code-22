{
 "cells": [
  {
   "cell_type": "code",
   "execution_count": 219,
   "metadata": {},
   "outputs": [],
   "source": [
    "import operator\n",
    "from itertools import repeat\n",
    "\n",
    "with open('./assets/input_day_9.txt', 'r') as file:\n",
    "    input = [line.split(' ') for line in file.read().splitlines()]"
   ]
  },
  {
   "cell_type": "code",
   "execution_count": 243,
   "metadata": {},
   "outputs": [],
   "source": [
    "def sign(number):\n",
    "    if number > 0:\n",
    "        return 1\n",
    "    elif number == 0:\n",
    "        return 0\n",
    "    else:\n",
    "        return -1\n",
    "\n",
    "def unit_move(rope,direction):\n",
    "\n",
    "    rope = list(map(list,rope))\n",
    "    \n",
    "    match direction:\n",
    "        case \"L\":\n",
    "            delta = [-1,0]\n",
    "        case \"R\":\n",
    "            delta = [1 ,0]\n",
    "        case \"U\":\n",
    "            delta = [0, 1]\n",
    "        case \"D\":\n",
    "            delta = [0,-1]\n",
    "    \n",
    "    # move the head of the rope\n",
    "    rope[0] = [x + y for x,y in zip(rope[0],delta)]\n",
    "\n",
    "    # for each knot further down the rope check what the euclidian distance between itself and the next one\n",
    "    # if the distance is greater than 1 in any direction, move the knot\n",
    "    for knot in range(len(rope)-1):   \n",
    "        diff = [x - y for x,y in zip(rope[knot],rope[knot+1])]\n",
    "        \n",
    "        if any([abs(i) > 1 for i in diff]):\n",
    "            rope[knot+1] = [x + y for x,y in zip(rope[knot+1],list(map(sign,diff)))]\n",
    "            \n",
    "    return tuple(map(tuple,rope))"
   ]
  },
  {
   "cell_type": "code",
   "execution_count": 244,
   "metadata": {},
   "outputs": [],
   "source": [
    "rope = (((0,0),)*2)\n",
    "ropes = [rope]\n",
    "for line in input:\n",
    "    for i in range(int(line[1])):\n",
    "        rope = unit_move(rope,line[0])\n",
    "        ropes.append(rope)"
   ]
  },
  {
   "cell_type": "code",
   "execution_count": 245,
   "metadata": {},
   "outputs": [
    {
     "data": {
      "text/plain": [
       "5981"
      ]
     },
     "execution_count": 245,
     "metadata": {},
     "output_type": "execute_result"
    }
   ],
   "source": [
    "len(set([knots[-1] for knots in ropes]))"
   ]
  },
  {
   "cell_type": "code",
   "execution_count": 246,
   "metadata": {},
   "outputs": [],
   "source": [
    "rope = (((0,0),)*10)\n",
    "\n",
    "ropes = [rope]\n",
    "for line in input:\n",
    "    for i in range(int(line[1])):\n",
    "        rope = unit_move(rope,line[0])\n",
    "        ropes.append(rope)"
   ]
  },
  {
   "cell_type": "code",
   "execution_count": 247,
   "metadata": {},
   "outputs": [
    {
     "data": {
      "text/plain": [
       "2352"
      ]
     },
     "execution_count": 247,
     "metadata": {},
     "output_type": "execute_result"
    }
   ],
   "source": [
    "len(set([knots[-1] for knots in ropes]))"
   ]
  }
 ],
 "metadata": {
  "kernelspec": {
   "display_name": "Python 3.10.5 ('advent-of-code-22-wz92sbIO')",
   "language": "python",
   "name": "python3"
  },
  "language_info": {
   "codemirror_mode": {
    "name": "ipython",
    "version": 3
   },
   "file_extension": ".py",
   "mimetype": "text/x-python",
   "name": "python",
   "nbconvert_exporter": "python",
   "pygments_lexer": "ipython3",
   "version": "3.10.5"
  },
  "orig_nbformat": 4,
  "vscode": {
   "interpreter": {
    "hash": "3838113ebab7a4d11bc1acf8c1b0b3e277d678e449986ac7a2213bec89ae2e4f"
   }
  }
 },
 "nbformat": 4,
 "nbformat_minor": 2
}
