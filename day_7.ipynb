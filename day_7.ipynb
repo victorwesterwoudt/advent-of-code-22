{
 "cells": [
  {
   "cell_type": "code",
   "execution_count": 363,
   "metadata": {},
   "outputs": [],
   "source": [
    "import re\n",
    "\n",
    "input_file = 'assets/input_day_7.txt'\n",
    "with open(input_file) as f:\n",
    "    input = f.read().splitlines()"
   ]
  },
  {
   "cell_type": "code",
   "execution_count": 364,
   "metadata": {},
   "outputs": [],
   "source": [
    "output = {}\n",
    "path = []\n",
    "for line in input:\n",
    "    cd = re.match(r\"\\$ cd (\\S+)\",line)\n",
    "    fl = re.match(r\"(\\d+) (\\S+)\",line)\n",
    "\n",
    "    if cd:  \n",
    "        if (d := cd.groups()[0]) == '..':\n",
    "            path.pop(-1)\n",
    "        else:\n",
    "            path.append(cd.groups()[0])\n",
    "            output[tuple(path)] = 0\n",
    "    elif fl:\n",
    "        for i in range(len(path)):\n",
    "            if i == 0:\n",
    "                output[tuple(path)] += int(fl.groups()[0])\n",
    "            else:\n",
    "                output[tuple(path[0:i])] += int(fl.groups()[0])"
   ]
  },
  {
   "cell_type": "code",
   "execution_count": 365,
   "metadata": {},
   "outputs": [
    {
     "data": {
      "text/plain": [
       "1501149"
      ]
     },
     "execution_count": 365,
     "metadata": {},
     "output_type": "execute_result"
    }
   ],
   "source": [
    "sum({k:v for k,v in output.items() if v < 100000}.values())"
   ]
  },
  {
   "cell_type": "code",
   "execution_count": 367,
   "metadata": {},
   "outputs": [
    {
     "data": {
      "text/plain": [
       "10096985"
      ]
     },
     "execution_count": 367,
     "metadata": {},
     "output_type": "execute_result"
    }
   ],
   "source": [
    "list({k:v for k,v in sorted({k:v for k,v in output.items() if v >= (output[('/',)] - (70000000 - 30000000))}.items(), key= lambda item: item[1])}.values())[0]"
   ]
  }
 ],
 "metadata": {
  "kernelspec": {
   "display_name": "Python 3.10.5 ('advent-of-code-22-wz92sbIO')",
   "language": "python",
   "name": "python3"
  },
  "language_info": {
   "codemirror_mode": {
    "name": "ipython",
    "version": 3
   },
   "file_extension": ".py",
   "mimetype": "text/x-python",
   "name": "python",
   "nbconvert_exporter": "python",
   "pygments_lexer": "ipython3",
   "version": "3.10.5"
  },
  "orig_nbformat": 4,
  "vscode": {
   "interpreter": {
    "hash": "3838113ebab7a4d11bc1acf8c1b0b3e277d678e449986ac7a2213bec89ae2e4f"
   }
  }
 },
 "nbformat": 4,
 "nbformat_minor": 2
}
