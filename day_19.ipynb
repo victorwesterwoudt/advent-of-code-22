{
 "cells": [
  {
   "cell_type": "code",
   "execution_count": 1,
   "metadata": {},
   "outputs": [],
   "source": [
    "import re\n",
    "from functools import cache, cached_property\n",
    "from collections import deque\n",
    "from math import ceil\n",
    "\n",
    "with open('./assets/input_day_19.txt','r') as file:\n",
    "    input = {}\n",
    "    temp = [tuple([int(x) for x in re.findall(r\"(\\d+)\",line)]) for line in file.read().splitlines()]\n",
    "    for line in temp:\n",
    "        input[line[0]] = line[1:]\n",
    "\n",
    "        \n",
    "class Blueprint(object):\n",
    "    def __init__(self, blueprint, total_time = 24, robots = (1,0,0,0), resources = (0,0,0,0)) -> None:\n",
    "        self._bp = blueprint\n",
    "        self.robots = robots\n",
    "        self.resources = resources\n",
    "        self._total_time = total_time\n",
    "\n",
    "\n",
    "    @cached_property\n",
    "    def blueprint(self):\n",
    "        return [\n",
    "            (self._bp[0],0,0,0),\n",
    "            (self._bp[1],0,0,0),\n",
    "            (self._bp[2],self._bp[3],0,0),\n",
    "            (self._bp[4],0,self._bp[5],0)\n",
    "        ]\n",
    "\n",
    "    @cached_property\n",
    "    def max_bots(self):\n",
    "        return [max(cost[i] for cost in self.blueprint) for i in range(4)]\n",
    "\n",
    "    @cache\n",
    "    def can_build(self, type, resources):\n",
    "        return all([x - y >= 0 for x,y in zip(resources,self.blueprint[type])])\n",
    "\n",
    "    def bots_to_build(self,type,robots):\n",
    "        return all([y != 0 for x,y in zip(self.blueprint[type],robots) if x])\n",
    "\n",
    "\n",
    "    @cache\n",
    "    def build_options(self,resources,robots, time):\n",
    "\n",
    "        output = []\n",
    "\n",
    "        for bid in range(4):\n",
    "            if bid != 3 and robots[bid] >= self.max_bots[bid]:\n",
    "                continue\n",
    "\n",
    "            if any(robots[rid] == 0 for rid, cost in enumerate(self.blueprint[bid]) if cost):\n",
    "                continue \n",
    "\n",
    "            wait = max([ceil((cost - resources[rid]) / robots[rid])  for rid,cost in enumerate(self.blueprint[bid]) if cost] + [0])\n",
    "            if time - wait - 1 <= 0:\n",
    "                continue\n",
    "\n",
    "            output.append((bid,wait))\n",
    "\n",
    "        return output\n",
    "\n",
    "\n",
    "    def solve(self):\n",
    "\n",
    "\n",
    "        queue = deque()\n",
    "        queue.append((self._total_time,self.resources,self.robots))\n",
    "        seen = set()\n",
    "        best = 0\n",
    "\n",
    "        while queue:\n",
    "            t, resources, robots = queue.popleft()\n",
    "\n",
    "            if (m := resources[3] + t * robots[3]) > best:\n",
    "                best = m\n",
    "            \n",
    "            if t == 0 or (s := (t, resources, robots)) in seen:\n",
    "                continue\n",
    "            else:\n",
    "                seen.add(s)\n",
    "\n",
    "            for bid, wait in self.build_options(resources,robots,t):\n",
    "\n",
    "                new_resources =  [resources[i] + (robots[i] * (wait + 1)) - self.blueprint[bid][i] for i in range(4)]\n",
    "\n",
    "                for i in range(3):\n",
    "                    new_resources[i] = min(new_resources[i], self.max_bots[i] * (t - wait - 1))\n",
    "                    \n",
    "                new_robots = list(robots)\n",
    "                new_robots[bid] += 1\n",
    "\n",
    "                queue.append((t - wait -1, tuple(new_resources),tuple(new_robots)))\n",
    "\n",
    "        return best\n"
   ]
  },
  {
   "cell_type": "code",
   "execution_count": 2,
   "metadata": {},
   "outputs": [
    {
     "name": "stdout",
     "output_type": "stream",
     "text": [
      "1294\n"
     ]
    }
   ],
   "source": [
    "quality = 0\n",
    "for k,v in input.items():\n",
    "    a = Blueprint(v)\n",
    "    quality += a.solve()*k\n",
    "\n",
    "print(quality)\n"
   ]
  },
  {
   "cell_type": "code",
   "execution_count": 4,
   "metadata": {},
   "outputs": [],
   "source": [
    "quality = 1\n",
    "for i in range(3):\n",
    "    a = Blueprint(input[i+1],total_time=32)\n",
    "    quality *= a.solve()"
   ]
  },
  {
   "cell_type": "code",
   "execution_count": 5,
   "metadata": {},
   "outputs": [
    {
     "name": "stdout",
     "output_type": "stream",
     "text": [
      "13640\n"
     ]
    }
   ],
   "source": [
    "print(quality)"
   ]
  },
  {
   "cell_type": "code",
   "execution_count": null,
   "metadata": {},
   "outputs": [],
   "source": []
  }
 ],
 "metadata": {
  "kernelspec": {
   "display_name": "advent-of-code-22-wz92sbIO",
   "language": "python",
   "name": "python3"
  },
  "language_info": {
   "codemirror_mode": {
    "name": "ipython",
    "version": 3
   },
   "file_extension": ".py",
   "mimetype": "text/x-python",
   "name": "python",
   "nbconvert_exporter": "python",
   "pygments_lexer": "ipython3",
   "version": "3.10.5"
  },
  "orig_nbformat": 4,
  "vscode": {
   "interpreter": {
    "hash": "3838113ebab7a4d11bc1acf8c1b0b3e277d678e449986ac7a2213bec89ae2e4f"
   }
  }
 },
 "nbformat": 4,
 "nbformat_minor": 2
}
