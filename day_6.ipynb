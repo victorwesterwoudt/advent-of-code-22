{
 "cells": [
  {
   "cell_type": "code",
   "execution_count": 1,
   "metadata": {},
   "outputs": [],
   "source": [
    "input_file = 'assets/input_day_6.txt'\n",
    "with open(input_file) as f:\n",
    "    temp = f.read()"
   ]
  },
  {
   "cell_type": "code",
   "execution_count": 2,
   "metadata": {},
   "outputs": [
    {
     "name": "stdout",
     "output_type": "stream",
     "text": [
      "the first occurance of 4 distinct characters is after 1542 characters\n",
      "the first occurance of 14 distinct characters is after 3153 characters\n"
     ]
    }
   ],
   "source": [
    "look_for = [4,14]\n",
    "for n in look_for:\n",
    "    i = 0\n",
    "    while True:\n",
    "        if len(set(temp[max(0,i-n):i])) == n or i > len(temp):\n",
    "            break\n",
    "        i += 1\n",
    "    print(f'the first occurance of {n} distinct characters is after {i} characters')\n"
   ]
  }
 ],
 "metadata": {
  "kernelspec": {
   "display_name": "Python 3.10.5 ('advent-of-code-22-wz92sbIO')",
   "language": "python",
   "name": "python3"
  },
  "language_info": {
   "codemirror_mode": {
    "name": "ipython",
    "version": 3
   },
   "file_extension": ".py",
   "mimetype": "text/x-python",
   "name": "python",
   "nbconvert_exporter": "python",
   "pygments_lexer": "ipython3",
   "version": "3.10.5"
  },
  "orig_nbformat": 4,
  "vscode": {
   "interpreter": {
    "hash": "3838113ebab7a4d11bc1acf8c1b0b3e277d678e449986ac7a2213bec89ae2e4f"
   }
  }
 },
 "nbformat": 4,
 "nbformat_minor": 2
}
