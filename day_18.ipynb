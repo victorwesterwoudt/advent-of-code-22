{
 "cells": [
  {
   "cell_type": "code",
   "execution_count": 252,
   "metadata": {},
   "outputs": [],
   "source": [
    "from functools import cached_property, cache, reduce\n",
    "\n",
    "class Droplet(object):\n",
    "\n",
    "    def __init__(self, file) -> None:\n",
    "        self._file = file\n",
    "        self.load()\n",
    "\n",
    "    def load(self):\n",
    "        with open(self._file,'r') as file:\n",
    "            voxels = [tuple([int(x) for x in line.split(',')]) for line in file.read().splitlines()]\n",
    "\n",
    "        self.voxels = set(voxels)\n",
    "\n",
    "    @cache\n",
    "    def neighbour(self,voxel,location: tuple[int,int,int]):\n",
    "        return tuple([x+y for x,y in zip(voxel,location)])\n",
    "        \n",
    "    def neighbour_exists(self,voxel,location,air=False):\n",
    "\n",
    "\n",
    "        nb = self.neighbour(voxel,location)\n",
    "        if self.oob(nb):\n",
    "            return False\n",
    "        elif nb in self.voxels and not air:\n",
    "            return True\n",
    "        elif nb not in self.voxels and air:\n",
    "            return True\n",
    "        else:\n",
    "            return False\n",
    "\n",
    "    def neighbours(self,voxel,air=False):\n",
    "        options = [\n",
    "            (1,0,0),\n",
    "            (-1,0,0),\n",
    "            (0,1,0),\n",
    "            (0,-1,0),\n",
    "            (0,0,1),\n",
    "            (0,0,-1)\n",
    "        ]\n",
    "\n",
    "        if self.oob(voxel):\n",
    "            raise ValueError(f'voxel {voxel} is out of bounds')\n",
    "        else:\n",
    "            return [self.neighbour(voxel,n) for n in options if self.neighbour_exists(voxel,n,air)]\n",
    "\n",
    "\n",
    "    def oob(self,voxel):\n",
    "        return any([x-y < 0 for x,y in zip(voxel,self.extent[0])]) or \\\n",
    "            any([x-y >= 0 for x,y in zip(voxel,self.extent[1])])\n",
    "\n",
    "\n",
    "    @cached_property\n",
    "    def extent(self, margin=2):       \n",
    "        return (\n",
    "            tuple([min(x)-margin for x in list(zip(*self.voxels))]),\n",
    "            tuple([max(x)+margin for x in list(zip(*self.voxels))])\n",
    "        )\n",
    "\n",
    "    def surface_area(self, voxels = None, air=False):\n",
    "        \n",
    "        if voxels is None:\n",
    "            voxels = self.voxels\n",
    "\n",
    "        sides = 0\n",
    "\n",
    "        for voxel in voxels:\n",
    "            sides += (6 - len(self.neighbours(voxel, air=air)))\n",
    "\n",
    "        return sides\n",
    "\n",
    "    def flood_fill(self, air=True):\n",
    "        if air:\n",
    "            stack = [self.extent[0]]\n",
    "        else:\n",
    "            stack = [list(self.voxels[0])[0]]\n",
    "        filled_voxels = []\n",
    "        while stack:\n",
    "            voxel = stack.pop()\n",
    "            if voxel in filled_voxels:\n",
    "                continue\n",
    "            else:\n",
    "                filled_voxels.append(voxel)\n",
    "                stack.extend(self.neighbours(voxel,air))\n",
    "\n",
    "        return set(filled_voxels)\n",
    "\n",
    "    @property\n",
    "    def _all(self):\n",
    "        rngs = [range(x,y) for x,y in zip(*self.extent)]\n",
    "        return set([(x,y,z) for z in rngs[2] for y in rngs[1] for x in rngs[0]])\n",
    "\n",
    "    @property\n",
    "    def air_pockets(self):\n",
    "        return self._all - self.flood_fill() - self.voxels  \n",
    "\n",
    "    def outer_surface(self):\n",
    "        return self.surface_area(self.voxels) - self.surface_area(self.air_pockets, air=True)\n",
    "\n",
    "            "
   ]
  },
  {
   "cell_type": "code",
   "execution_count": 254,
   "metadata": {},
   "outputs": [
    {
     "name": "stdout",
     "output_type": "stream",
     "text": [
      "the total surface area of the droplet is: 4400\n",
      "the outer surface area of the droplet is: 2522\n"
     ]
    }
   ],
   "source": [
    "droplet = Droplet('./assets/input_day_18.txt')\n",
    "print(f\"the total surface area of the droplet is: {droplet.surface_area()}\")\n",
    "print(f\"the outer surface area of the droplet is: {droplet.outer_surface()}\")\n"
   ]
  }
 ],
 "metadata": {
  "kernelspec": {
   "display_name": "advent-of-code-22-wz92sbIO",
   "language": "python",
   "name": "python3"
  },
  "language_info": {
   "codemirror_mode": {
    "name": "ipython",
    "version": 3
   },
   "file_extension": ".py",
   "mimetype": "text/x-python",
   "name": "python",
   "nbconvert_exporter": "python",
   "pygments_lexer": "ipython3",
   "version": "3.10.5"
  },
  "orig_nbformat": 4,
  "vscode": {
   "interpreter": {
    "hash": "3838113ebab7a4d11bc1acf8c1b0b3e277d678e449986ac7a2213bec89ae2e4f"
   }
  }
 },
 "nbformat": 4,
 "nbformat_minor": 2
}
