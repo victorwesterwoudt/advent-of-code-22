{
 "cells": [
  {
   "cell_type": "code",
   "execution_count": null,
   "metadata": {},
   "outputs": [],
   "source": [
    "import numpy as np"
   ]
  },
  {
   "cell_type": "code",
   "execution_count": 26,
   "metadata": {},
   "outputs": [],
   "source": [
    "input_file = 'input_1.txt'\n",
    "with open(input_file) as f:\n",
    "    input = [x.strip('\\n') for x in f.readlines()]"
   ]
  },
  {
   "cell_type": "code",
   "execution_count": 33,
   "metadata": {},
   "outputs": [
    {
     "name": "stdout",
     "output_type": "stream",
     "text": [
      "177 69310\n"
     ]
    }
   ],
   "source": [
    "calories = [0]\n",
    "i = 0\n",
    "for unit in input:\n",
    "    if unit != \"\":\n",
    "        calories[i] += int(unit)\n",
    "    else:\n",
    "        calories.append(0)\n",
    "        i += 1 \n",
    " \n",
    "\n",
    "max_elf = np.argmax(calories)\n",
    "max_calories = calories[max_elf]\n",
    "\n",
    "\n",
    "print(max_elf, max_calories)\n",
    "\n",
    "elf_order = np.argsort(calories)\n",
    "top_3 = np.sum([calories[x] for x in elf_order[::-1]][0:3])"
   ]
  }
 ],
 "metadata": {
  "kernelspec": {
   "display_name": "Python 3.10.5 ('advent-of-code-22-wz92sbIO')",
   "language": "python",
   "name": "python3"
  },
  "language_info": {
   "codemirror_mode": {
    "name": "ipython",
    "version": 3
   },
   "file_extension": ".py",
   "mimetype": "text/x-python",
   "name": "python",
   "nbconvert_exporter": "python",
   "pygments_lexer": "ipython3",
   "version": "3.10.5"
  },
  "orig_nbformat": 4,
  "vscode": {
   "interpreter": {
    "hash": "3838113ebab7a4d11bc1acf8c1b0b3e277d678e449986ac7a2213bec89ae2e4f"
   }
  }
 },
 "nbformat": 4,
 "nbformat_minor": 2
}
