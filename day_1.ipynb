{
 "cells": [
  {
   "cell_type": "code",
   "execution_count": 21,
   "metadata": {},
   "outputs": [],
   "source": [
    "import numpy as np"
   ]
  },
  {
   "cell_type": "code",
   "execution_count": 1,
   "metadata": {},
   "outputs": [],
   "source": [
    "input_file = 'assets/input_day_1.txt'\n",
    "with open(input_file) as f:\n",
    "    input = f.read().splitlines()"
   ]
  },
  {
   "cell_type": "code",
   "execution_count": 23,
   "metadata": {},
   "outputs": [],
   "source": [
    "calories = [0]\n",
    "i = 0\n",
    "for unit in input:\n",
    "    if unit != \"\":\n",
    "        calories[-1] += int(unit)\n",
    "    else:\n",
    "        calories.append(0)\n",
    "\n",
    "\n",
    "elf_order = np.argsort(calories)[::-1]"
   ]
  },
  {
   "cell_type": "code",
   "execution_count": 24,
   "metadata": {},
   "outputs": [
    {
     "name": "stdout",
     "output_type": "stream",
     "text": [
      "the elf carrying the max calories carries: 69310\n",
      "the top three elfs carry: 206104 combined\n"
     ]
    }
   ],
   "source": [
    "print(f'the elf carrying the max calories carries: {calories[elf_order[0]]}')\n",
    "print(f'the top three elfs carry: {sum([calories[x] for x in elf_order[0:3]])} combined')"
   ]
  }
 ],
 "metadata": {
  "kernelspec": {
   "display_name": "Python 3.10.5 ('advent-of-code-22-wz92sbIO')",
   "language": "python",
   "name": "python3"
  },
  "language_info": {
   "codemirror_mode": {
    "name": "ipython",
    "version": 3
   },
   "file_extension": ".py",
   "mimetype": "text/x-python",
   "name": "python",
   "nbconvert_exporter": "python",
   "pygments_lexer": "ipython3",
   "version": "3.10.5"
  },
  "orig_nbformat": 4,
  "vscode": {
   "interpreter": {
    "hash": "3838113ebab7a4d11bc1acf8c1b0b3e277d678e449986ac7a2213bec89ae2e4f"
   }
  }
 },
 "nbformat": 4,
 "nbformat_minor": 2
}
