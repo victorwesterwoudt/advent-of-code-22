{
 "cells": [
  {
   "cell_type": "code",
   "execution_count": 188,
   "metadata": {},
   "outputs": [],
   "source": [
    "from collections import deque, defaultdict\n",
    "from functools import cache"
   ]
  },
  {
   "cell_type": "code",
   "execution_count": 203,
   "metadata": {},
   "outputs": [],
   "source": [
    "class Elves(object):\n",
    "    directions = {\n",
    "            \"N\":    (-1,0),\n",
    "            \"NW\":   (-1,-1),\n",
    "            \"W\":    (0,-1),\n",
    "            \"SW\":   (1,-1),\n",
    "            \"S\":    (1,0),\n",
    "            \"SE\":   (1,1),\n",
    "            \"E\":    (0,1),\n",
    "            \"NE\":   (-1,1),\n",
    "        }\n",
    "\n",
    "\n",
    "    def __init__(self,file) -> None:\n",
    "        self.views = deque(\n",
    "            [(\"N\",(self.directions[\"N\"],self.directions[\"NE\"],self.directions[\"NW\"])),\n",
    "            (\"S\",(self.directions[\"S\"],self.directions[\"SE\"],self.directions[\"SW\"])),\n",
    "            (\"W\",(self.directions[\"W\"],self.directions[\"NW\"],self.directions[\"SW\"])),\n",
    "            (\"E\",(self.directions[\"E\"],self.directions[\"NE\"],self.directions[\"SE\"]))]\n",
    "        )\n",
    "        self._file = file\n",
    "        self.load()\n",
    "\n",
    "    @property\n",
    "    def extent(self):\n",
    "\n",
    "        return ((min([x[0] for x in self._elves]), min([x[1] for x in self._elves])),\n",
    "        (max([x[0] for x in self._elves]), max([x[1] for x in self._elves])))\n",
    "\n",
    "\n",
    "    @property\n",
    "    def score(self):\n",
    "        return (1+ self.extent[1][1] - self.extent[0][1]) * (1+ self.extent[1][0] - self.extent[0][0]) - len(self._elves)\n",
    "        \n",
    "    def __repr__(self) -> str:\n",
    "        repr = ''\n",
    "\n",
    "        for r in range(self.extent[0][0], self.extent[1][0]+1):\n",
    "            for c in range(self.extent[0][1], self.extent[1][1]+1):\n",
    "                if (r,c) in self._elves:\n",
    "                    repr += '#'\n",
    "                else:\n",
    "                    repr += '.'\n",
    "\n",
    "            repr += '\\n'\n",
    "\n",
    "        return repr\n",
    "\n",
    "    def load(self):\n",
    "        with open('./assets/input_day_23.txt', 'r') as file:\n",
    "            input = file.read().splitlines()\n",
    "\n",
    "            elves = {}\n",
    "            for r,line in enumerate(input):\n",
    "                for c,v in enumerate(line):\n",
    "                    if v == '#':\n",
    "                        elves[(r,c)] = None\n",
    "\n",
    "        self._elves = elves\n",
    "        \n",
    "\n",
    "    @cache\n",
    "    def target(self,pos,vec):\n",
    "        return tuple([x+y for x,y in zip(pos,vec)])\n",
    "\n",
    "\n",
    "    def proposition(self,elf):\n",
    "        \n",
    "        no_move = True\n",
    "        first_empty = None\n",
    "        for view in self.views:\n",
    "            \n",
    "            a = [self.target(elf,drct) in self._elves for drct in view[1]]\n",
    "            if any(a):\n",
    "                no_move = False\n",
    "            elif first_empty is None:\n",
    "                    first_empty = view[0]\n",
    "\n",
    "        if no_move or first_empty is None:\n",
    "            return elf\n",
    "        elif first_empty:\n",
    "            return self.target(elf,self.directions[first_empty])\n",
    "\n",
    "    def get_moves(self):\n",
    "        \n",
    "        propositions = defaultdict(list)\n",
    "        for elf in self._elves:\n",
    "            propositions[self.proposition(elf)].append(elf)\n",
    "            \n",
    "        return {k:v[0] for k,v in propositions.items() if len(v) == 1 and not k == v[0]}\n",
    "\n",
    "\n",
    "    def move(self):\n",
    "\n",
    "        moves = self.get_moves()\n",
    "\n",
    "        for dest,origin in moves.items():\n",
    "            self._elves.pop(origin)\n",
    "            self._elves[dest] = origin\n",
    "\n",
    "        self.views.rotate(-1)\n",
    "\n",
    "        return moves    "
   ]
  },
  {
   "cell_type": "code",
   "execution_count": 206,
   "metadata": {},
   "outputs": [
    {
     "name": "stdout",
     "output_type": "stream",
     "text": [
      "4109 empty spaces after 10 rounds\n"
     ]
    }
   ],
   "source": [
    "pt1 = Elves('./assets/input_day_23.txt')\n",
    "for i in range(10):\n",
    "    _ = pt1.move()\n",
    "\n",
    "print(f\"{pt1.score} empty spaces after {i+1} rounds\")\n"
   ]
  },
  {
   "cell_type": "code",
   "execution_count": 207,
   "metadata": {},
   "outputs": [
    {
     "name": "stdout",
     "output_type": "stream",
     "text": [
      "no more moves after: 1055 rounds\n"
     ]
    }
   ],
   "source": [
    "pt2 = Elves('./assets/input_day_23.txt')\n",
    "mvs = None\n",
    "i = 0\n",
    "while mvs != {}:\n",
    "    mvs = pt2.move()\n",
    "    i += 1\n",
    "\n",
    "print(f\"no more moves after: {i} rounds\")"
   ]
  }
 ],
 "metadata": {
  "kernelspec": {
   "display_name": "advent-of-code-22-wz92sbIO",
   "language": "python",
   "name": "python3"
  },
  "language_info": {
   "codemirror_mode": {
    "name": "ipython",
    "version": 3
   },
   "file_extension": ".py",
   "mimetype": "text/x-python",
   "name": "python",
   "nbconvert_exporter": "python",
   "pygments_lexer": "ipython3",
   "version": "3.10.5"
  },
  "orig_nbformat": 4,
  "vscode": {
   "interpreter": {
    "hash": "3838113ebab7a4d11bc1acf8c1b0b3e277d678e449986ac7a2213bec89ae2e4f"
   }
  }
 },
 "nbformat": 4,
 "nbformat_minor": 2
}
